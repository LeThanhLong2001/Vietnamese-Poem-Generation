{
  "cells": [
    {
      "cell_type": "code",
      "source": [
        "# https://drive.google.com/file/d/1DlJY6ySqSZZEUgiOqL2uCkKagt5bP3MN/view?usp=share_link\n",
        "!gdown --id 1DlJY6ySqSZZEUgiOqL2uCkKagt5bP3MN"
      ],
      "metadata": {
        "colab": {
          "base_uri": "https://localhost:8080/"
        },
        "id": "V2H_gNugelj6",
        "outputId": "af2ad963-0bae-44b5-842d-d31ad7253c24"
      },
      "execution_count": null,
      "outputs": [
        {
          "output_type": "stream",
          "name": "stdout",
          "text": [
            "/usr/local/lib/python3.10/dist-packages/gdown/__main__.py:132: FutureWarning: Option `--id` was deprecated in version 4.3.1 and will be removed in 5.0. You don't need to pass it anymore to use a file ID.\n",
            "  warnings.warn(\n",
            "Downloading...\n",
            "From: https://drive.google.com/uc?id=1DlJY6ySqSZZEUgiOqL2uCkKagt5bP3MN\n",
            "To: /content/poem_dataset.zip\n",
            "100% 20.3k/20.3k [00:00<00:00, 62.1MB/s]\n"
          ]
        }
      ]
    },
    {
      "cell_type": "code",
      "source": [
        "!unzip './poem_dataset.zip'"
      ],
      "metadata": {
        "colab": {
          "base_uri": "https://localhost:8080/"
        },
        "id": "7RHFkwgge2Nj",
        "outputId": "48adc85d-ed5f-4f35-85f4-5533ded0e937"
      },
      "execution_count": null,
      "outputs": [
        {
          "output_type": "stream",
          "name": "stdout",
          "text": [
            "Archive:  ./poem_dataset.zip\n",
            "  inflating: poem_dataset.csv        \n"
          ]
        }
      ]
    },
    {
      "cell_type": "markdown",
      "source": [
        "## **1. Import các thư viện cần thiết**"
      ],
      "metadata": {
        "id": "TSsat2oUaitv"
      }
    },
    {
      "cell_type": "code",
      "execution_count": null,
      "metadata": {
        "id": "x753CoSmVZ1G"
      },
      "outputs": [],
      "source": [
        "import os\n",
        "import numpy as np\n",
        "import pandas as pd\n",
        "import matplotlib.pyplot as plt\n",
        "import tensorflow as tf\n",
        "import re\n",
        "import random\n",
        "\n",
        "from tensorflow.keras.preprocessing.text import Tokenizer\n",
        "from tensorflow.keras.preprocessing.sequence import pad_sequences\n",
        "from nltk.translate.bleu_score import sentence_bleu, corpus_bleu\n",
        "\n",
        "RANDOM_SEED = 1\n",
        "tf.random.set_seed(RANDOM_SEED)"
      ]
    },
    {
      "cell_type": "markdown",
      "source": [
        "## **2. Chuẩn bị dữ liệu**"
      ],
      "metadata": {
        "id": "YKb5snF9aptz"
      }
    },
    {
      "cell_type": "code",
      "source": [
        "def text_normalize(text):\n",
        "    text = text.lower()\n",
        "    text = text.strip()\n",
        "    text = re.sub(r'[^\\w\\s\\n]', '', text)\n",
        "    text = text.replace('\\n\\n', '\\n')\n",
        "    text = '\\n'.join(['<start> ' + line + ' <end>' for line in text.split('\\n') if line != '' and len(line.split()) == 5])\n",
        "\n",
        "    return text"
      ],
      "metadata": {
        "id": "sfZ3eP0kPsi7"
      },
      "execution_count": null,
      "outputs": []
    },
    {
      "cell_type": "code",
      "source": [
        "BATCH_SIZE = 32\n",
        "MAX_SEQ_LEN = 7\n",
        "VOCAB_SIZE = 5000"
      ],
      "metadata": {
        "id": "rxbeWccEX4RN"
      },
      "execution_count": null,
      "outputs": []
    },
    {
      "cell_type": "code",
      "source": [
        "DATASET_PATH = './poem_dataset.csv'\n",
        "\n",
        "df = pd.read_csv(DATASET_PATH, index_col=0)\n",
        "df['content'] = df['content'].apply(lambda p: text_normalize(p))\n",
        "corpus = df['content'].to_numpy()\n",
        "\n",
        "X = []\n",
        "y = []\n",
        "for idx, row in df.iterrows():\n",
        "    lines = row['content'].split('\\n')\n",
        "    lines = [line for line in lines if line != '']\n",
        "    for idx in range(0, len(lines) - 1):\n",
        "        input_sentence = lines[idx]\n",
        "        output_sentence = lines[idx+1]\n",
        "\n",
        "        X.append(input_sentence)\n",
        "        y.append(output_sentence)"
      ],
      "metadata": {
        "id": "YjSMjEex0gOi"
      },
      "execution_count": null,
      "outputs": []
    },
    {
      "cell_type": "code",
      "source": [
        "df['content']"
      ],
      "metadata": {
        "colab": {
          "base_uri": "https://localhost:8080/"
        },
        "id": "teyQBJL5PmoT",
        "outputId": "049032a5-a96e-4fe9-fb6c-e021be1158be"
      },
      "execution_count": null,
      "outputs": [
        {
          "output_type": "execute_result",
          "data": {
            "text/plain": [
              "0     <start> cái làm ta hạnh phúc <end>\\n<start> th...\n",
              "1     <start> chiều vừa xốp trên tay <end>\\n<start> ...\n",
              "2     <start> dưới giàn hoa thiên lý <end>\\n<start> ...\n",
              "3     <start> đến nhiều nơi để đến <end>\\n<start> về...\n",
              "4     <start> đừng bao giờ dại dột <end>\\n<start> đe...\n",
              "                            ...                        \n",
              "85    <start> đời anh hăm hai tuổi <end>\\n<start> ch...\n",
              "86    <start> anh đi công tác về <end>\\n<start> em c...\n",
              "87    <start> anh đi qua đời em <end>\\n<start> như c...\n",
              "88    <start> anh nằm ngoài sự thực <end>\\n<start> e...\n",
              "89                                                     \n",
              "Name: content, Length: 90, dtype: object"
            ]
          },
          "metadata": {},
          "execution_count": 7
        }
      ]
    },
    {
      "cell_type": "code",
      "source": [
        "for idx in range(len(X)):\n",
        "    print(f'Input: {X[idx]} => {y[idx]}')"
      ],
      "metadata": {
        "colab": {
          "base_uri": "https://localhost:8080/"
        },
        "id": "b68VnUSn8MMs",
        "outputId": "3d8728dd-a99a-49c6-f17d-1abe23f7ee84"
      },
      "execution_count": null,
      "outputs": [
        {
          "output_type": "stream",
          "name": "stdout",
          "text": [
            "Input: <start> cái làm ta hạnh phúc <end> => <start> thực ra cũng chẳng nhiều <end>\n",
            "Input: <start> thực ra cũng chẳng nhiều <end> => <start> chỉ cần có ai đó <end>\n",
            "Input: <start> chỉ cần có ai đó <end> => <start> để ta thầm thương yêu <end>\n",
            "Input: <start> để ta thầm thương yêu <end> => <start> rồi thêm chút công việc <end>\n",
            "Input: <start> rồi thêm chút công việc <end> => <start> cho ta làm hàng ngày <end>\n",
            "Input: <start> cho ta làm hàng ngày <end> => <start> cuối cùng chút mơ mộng <end>\n",
            "Input: <start> cuối cùng chút mơ mộng <end> => <start> để đưa ta lên mây <end>\n",
            "Input: <start> chiều vừa xốp trên tay <end> => <start> chợt nghe thoáng ong bay <end>\n",
            "Input: <start> chợt nghe thoáng ong bay <end> => <start> có ai vừa chết nhỉ <end>\n",
            "Input: <start> có ai vừa chết nhỉ <end> => <start> mây thắt tang trăng gầy <end>\n",
            "Input: <start> mây thắt tang trăng gầy <end> => <start> ớt đỏ sao cứ đỏ <end>\n",
            "Input: <start> ớt đỏ sao cứ đỏ <end> => <start> táo chín cho thật vàng <end>\n",
            "Input: <start> táo chín cho thật vàng <end> => <start> em đẹp cho thêm đẹp <end>\n",
            "Input: <start> em đẹp cho thêm đẹp <end> => <start> để mắt ngừng lang thang <end>\n",
            "Input: <start> dưới giàn hoa thiên lý <end> => <start> một mình anh đang ngồi <end>\n",
            "Input: <start> một mình anh đang ngồi <end> => <start> không dưng em bước tới <end>\n",
            "Input: <start> không dưng em bước tới <end> => <start> anh bỗng thành song đôi <end>\n",
            "Input: <start> đến nhiều nơi để đến <end> => <start> về trở lại với mình <end>\n",
            "Input: <start> về trở lại với mình <end> => <start> chỉ duy nhất một chốn <end>\n",
            "Input: <start> chỉ duy nhất một chốn <end> => <start> chốn ấy là gia đình <end>\n",
            "Input: <start> đừng bao giờ dại dột <end> => <start> đem chuyện riêng của mình <end>\n",
            "Input: <start> đem chuyện riêng của mình <end> => <start> tâm sự với người khác <end>\n",
            "Input: <start> tâm sự với người khác <end> => <start> đây con số chứng minh <end>\n",
            "Input: <start> đây con số chứng minh <end> => <start> hai phần ba trong họ <end>\n",
            "Input: <start> hai phần ba trong họ <end> => <start> sẽ chẳng thèm quan tâm <end>\n",
            "Input: <start> sẽ chẳng thèm quan tâm <end> => <start> một phần ba còn lại <end>\n",
            "Input: <start> một phần ba còn lại <end> => <start> nghe xong lòng vui thầm <end>\n",
            "Input: <start> hầu hết các đồ vật <end> => <start> ta muốn đều đắt tiền <end>\n",
            "Input: <start> ta muốn đều đắt tiền <end> => <start> một khi không có được <end>\n",
            "Input: <start> một khi không có được <end> => <start> ta cảm thấy buồn phiền <end>\n",
            "Input: <start> ta cảm thấy buồn phiền <end> => <start> trong khi cái thực sự <end>\n",
            "Input: <start> trong khi cái thực sự <end> => <start> làm ta vui ở đời <end>\n",
            "Input: <start> làm ta vui ở đời <end> => <start> hoàn toàn không tốn kém <end>\n",
            "Input: <start> hoàn toàn không tốn kém <end> => <start> là tình yêu tiếng cười <end>\n",
            "Input: <start> chưa hết mùa tầm xuân <end> => <start> nên mưa còn ngại ngần <end>\n",
            "Input: <start> nên mưa còn ngại ngần <end> => <start> nơi miền xa bất tận <end>\n",
            "Input: <start> nơi miền xa bất tận <end> => <start> để nắng dài bâng khuâng <end>\n",
            "Input: <start> để nắng dài bâng khuâng <end> => <start> sài gòn bao bàn chân <end>\n",
            "Input: <start> sài gòn bao bàn chân <end> => <start> nhớ bao nhiêu tên đường <end>\n",
            "Input: <start> nhớ bao nhiêu tên đường <end> => <start> đời qua bao nhiêu bận <end>\n",
            "Input: <start> đời qua bao nhiêu bận <end> => <start> gót giày lên vấn vương <end>\n",
            "Input: <start> gót giày lên vấn vương <end> => <start> tháng tư làm nhớ thương <end>\n",
            "Input: <start> tháng tư làm nhớ thương <end> => <start> đầu mùa ve nức nở <end>\n",
            "Input: <start> đầu mùa ve nức nở <end> => <start> trên vòm lá sân trường <end>\n",
            "Input: <start> trên vòm lá sân trường <end> => <start> bên đường xưa của ngọ <end>\n",
            "Input: <start> bên đường xưa của ngọ <end> => <start> ai đang ngồi khóc dở <end>\n",
            "Input: <start> ai đang ngồi khóc dở <end> => <start> thời gian qua thời gian <end>\n",
            "Input: <start> thời gian qua thời gian <end> => <start> hết rồi ngày bỡ ngỡ <end>\n",
            "Input: <start> hết rồi ngày bỡ ngỡ <end> => <start> còn chăng nỗi bẽ bàng <end>\n",
            "Input: <start> còn chăng nỗi bẽ bàng <end> => <start> bên chân dung điêu tàn <end>\n",
            "Input: <start> bên chân dung điêu tàn <end> => <start> nên ngày xưa của ngọ <end>\n",
            "Input: <start> nên ngày xưa của ngọ <end> => <start> đời không cho quên lãng <end>\n",
            "Input: <start> đời không cho quên lãng <end> => <start> để yêu thương còn chờ <end>\n",
            "Input: <start> để yêu thương còn chờ <end> => <start> mai em về xứ sở <end>\n",
            "Input: <start> mai em về xứ sở <end> => <start> áo dài quấn chân anh <end>\n",
            "Input: <start> áo dài quấn chân anh <end> => <start> đi qua đường của ngọ <end>\n",
            "Input: <start> đi qua đường của ngọ <end> => <start> viết thêm câu chuyện tình <end>\n",
            "Input: <start> khi cô gái im lặng <end> => <start> năm lý do như sau <end>\n",
            "Input: <start> năm lý do như sau <end> => <start> một nàng đang tức giận <end>\n",
            "Input: <start> một nàng đang tức giận <end> => <start> hai nàng đang buồn đau <end>\n",
            "Input: <start> hai nàng đang buồn đau <end> => <start> ba nàng sắp bùng nổ <end>\n",
            "Input: <start> ba nàng sắp bùng nổ <end> => <start> bốn nàng nghi ngờ mình <end>\n",
            "Input: <start> bốn nàng nghi ngờ mình <end> => <start> năm và quan trọng nhất <end>\n",
            "Input: <start> năm và quan trọng nhất <end> => <start> nàng chờ bạn tỏ tình <end>\n",
            "Input: <start> khi tiếng niệm di đà <end> => <start> vang vọng trong tâm ta <end>\n",
            "Input: <start> vang vọng trong tâm ta <end> => <start> rơi đi những phiền não <end>\n",
            "Input: <start> rơi đi những phiền não <end> => <start> cho bồ đề nở hoa <end>\n",
            "Input: <start> khoẻ  không phải nhấc mạnh <end> => <start> mà biết đặt nhẹ nhàng <end>\n",
            "Input: <start> mà biết đặt nhẹ nhàng <end> => <start> kính  đối với người dưới <end>\n",
            "Input: <start> kính  đối với người dưới <end> => <start> như những người ngang hàng <end>\n",
            "Input: <start> như những người ngang hàng <end> => <start> lớn  không ở to tát <end>\n",
            "Input: <start> lớn  không ở to tát <end> => <start> mà ở điều bình thường <end>\n",
            "Input: <start> mà ở điều bình thường <end> => <start> đẹp  không ở khuôn mặt <end>\n",
            "Input: <start> đẹp  không ở khuôn mặt <end> => <start> mà trái tim yêu thương <end>\n",
            "Input: <start> mà trái tim yêu thương <end> => <start> tốt  không ở lời nói <end>\n",
            "Input: <start> tốt  không ở lời nói <end> => <start> mà việc làm hàng ngày <end>\n",
            "Input: <start> mà việc làm hàng ngày <end> => <start> cuốn sách đẹp bìa cứng <end>\n",
            "Input: <start> cuốn sách đẹp bìa cứng <end> => <start> chưa hẳn là sách hay <end>\n",
            "Input: <start> không thể kiểm tra bạn <end> => <start> như ta kiểm tra tiền <end>\n",
            "Input: <start> như ta kiểm tra tiền <end> => <start> muốn xem thật hay giả <end>\n",
            "Input: <start> muốn xem thật hay giả <end> => <start> đem soi trước bóng đèn <end>\n",
            "Input: <start> lặng ngồi chốn tĩnh lâu <end> => <start> trăng sáng gió canh thâu <end>\n",
            "Input: <start> trăng sáng gió canh thâu <end> => <start> bát nhã hương lòng nhẹ <end>\n",
            "Input: <start> bát nhã hương lòng nhẹ <end> => <start> lăng già niệm ý sâu <end>\n",
            "Input: <start> lăng già niệm ý sâu <end> => <start> phật tâm chung một vẻ <end>\n",
            "Input: <start> phật tâm chung một vẻ <end> => <start> thiền tịnh chẳng hai mầu <end>\n",
            "Input: <start> thiền tịnh chẳng hai mầu <end> => <start> ngưng chuỗi thầm riêng hỏi <end>\n",
            "Input: <start> ngưng chuỗi thầm riêng hỏi <end> => <start> hoa đêm điểm điểm đầu <end>\n",
            "Input: <start> lòng tôi là cây khế <end> => <start> em là chim về chơi <end>\n",
            "Input: <start> em là chim về chơi <end> => <start> vàng kia em chẳng trả <end>\n",
            "Input: <start> vàng kia em chẳng trả <end> => <start> chỉ nhả hạt xuống thôi <end>\n",
            "Input: <start> chỉ nhả hạt xuống thôi <end> => <start> hạt rớt xuống thành cây <end>\n",
            "Input: <start> hạt rớt xuống thành cây <end> => <start> cây cũng toàn cây khế <end>\n",
            "Input: <start> cây cũng toàn cây khế <end> => <start> từ khi em đi rồi <end>\n",
            "Input: <start> từ khi em đi rồi <end> => <start> vườn tôi thành lặng lẽ <end>\n",
            "Input: <start> vườn tôi thành lặng lẽ <end> => <start> biết bao giờ trở lại <end>\n",
            "Input: <start> biết bao giờ trở lại <end> => <start> cánh chim em ngày nào <end>\n",
            "Input: <start> cánh chim em ngày nào <end> => <start> lòng tôi hoa khế rụng <end>\n",
            "Input: <start> lòng tôi hoa khế rụng <end> => <start> xuống nỗi buồn nôn nao <end>\n",
            "Input: <start> mong bạn hoài nghi tôi <end> => <start> cho tôi tin cậy bạn <end>\n",
            "Input: <start> cho tôi tin cậy bạn <end> => <start> những lời đang vỗ cánh <end>\n",
            "Input: <start> những lời đang vỗ cánh <end> => <start> chưa chắc là đã bay <end>\n",
            "Input: <start> một đời người quá ngắn <end> => <start> một ngày sao quá dài <end>\n",
            "Input: <start> một ngày sao quá dài <end> => <start> bao nhiêu sao hôm lặn <end>\n",
            "Input: <start> bao nhiêu sao hôm lặn <end> => <start> chẳng mọc thành sao mai <end>\n",
            "Input: <start> ngoảnh mặt với bệ rồng <end> => <start> xua vàng khối bạc thẻ <end>\n",
            "Input: <start> xua vàng khối bạc thẻ <end> => <start> dẫu đao phủ vung gươm <end>\n",
            "Input: <start> dẫu đao phủ vung gươm <end> => <start> cũng đừng mong đổi ý <end>\n",
            "Input: <start> cũng đừng mong đổi ý <end> => <start> nhưng gặp bạn tri âm <end>\n",
            "Input: <start> nhưng gặp bạn tri âm <end> => <start> dù ngục tù cũng ở <end>\n",
            "Input: <start> dù ngục tù cũng ở <end> => <start> người đẹp của muôn thuở <end>\n",
            "Input: <start> người đẹp của muôn thuở <end> => <start> gần gũi và xa vời <end>\n",
            "Input: <start> người ấy xưa gầy lắm <end> => <start> mỏng mảnh khói sương buồn <end>\n",
            "Input: <start> mỏng mảnh khói sương buồn <end> => <start> đôi mắt nhìn đăm đắm <end>\n",
            "Input: <start> đôi mắt nhìn đăm đắm <end> => <start> giấu một trời mưa tuôn <end>\n",
            "Input: <start> giấu một trời mưa tuôn <end> => <start> cổng trường thời đi học <end>\n",
            "Input: <start> cổng trường thời đi học <end> => <start> tôi vẫn thường theo sau <end>\n",
            "Input: <start> tôi vẫn thường theo sau <end> => <start> mười năm xa mái tóc <end>\n",
            "Input: <start> mười năm xa mái tóc <end> => <start> còn vương hương thuở nào <end>\n",
            "Input: <start> còn vương hương thuở nào <end> => <start> người ấy không che nón <end>\n",
            "Input: <start> người ấy không che nón <end> => <start> mỗi khi tan học về <end>\n",
            "Input: <start> mỗi khi tan học về <end> => <start> không thích ai đưa đón <end>\n",
            "Input: <start> không thích ai đưa đón <end> => <start> dẫu đường dài lê thê <end>\n",
            "Input: <start> dẫu đường dài lê thê <end> => <start> ôi một thời ngây thơ <end>\n",
            "Input: <start> ôi một thời ngây thơ <end> => <start> khù khờ mà bướng bỉnh <end>\n",
            "Input: <start> khù khờ mà bướng bỉnh <end> => <start> tôi lóng ngóng lơ ngơ <end>\n",
            "Input: <start> tôi lóng ngóng lơ ngơ <end> => <start> nên mùa chia tay ấy <end>\n",
            "Input: <start> nên mùa chia tay ấy <end> => <start> mặc phượng hồng lung linh <end>\n",
            "Input: <start> mặc phượng hồng lung linh <end> => <start> và ve sầu trổi dậy <end>\n",
            "Input: <start> và ve sầu trổi dậy <end> => <start> tôi chỉ nhìn lặng thinh <end>\n",
            "Input: <start> tôi chỉ nhìn lặng thinh <end> => <start> bây giờ ngồi tiếc nhớ <end>\n",
            "Input: <start> bây giờ ngồi tiếc nhớ <end> => <start> ngày xanh  tuổi dại khờ <end>\n",
            "Input: <start> ngày xanh  tuổi dại khờ <end> => <start> ước chi đừng cách trở <end>\n",
            "Input: <start> nơi chính tâm cơn bão <end> => <start> dễ tìm được bình tâm <end>\n",
            "Input: <start> gội rửa sạch trần hồng <end> => <start> như hoa ướp trầm xông <end>\n",
            "Input: <start> như hoa ướp trầm xông <end> => <start> nguyện mười phương pháp giới <end>\n",
            "Input: <start> nguyện mười phương pháp giới <end> => <start> bi trí khắp dung thông <end>\n",
            "Input: <start> bi trí khắp dung thông <end> => <start> thân mặc áo giải thoát <end>\n",
            "Input: <start> thân mặc áo giải thoát <end> => <start> lìa tập nhiễm phù vân <end>\n",
            "Input: <start> lìa tập nhiễm phù vân <end> => <start> nguyện chúng sinh mười cõi <end>\n",
            "Input: <start> nguyện chúng sinh mười cõi <end> => <start> lìa vọng huyễn qui chân <end>\n",
            "Input: <start> lìa vọng huyễn qui chân <end> => <start> thắp lửa vô lượng quang <end>\n",
            "Input: <start> thắp lửa vô lượng quang <end> => <start> sáng soi bảy cửa ngục <end>\n",
            "Input: <start> sáng soi bảy cửa ngục <end> => <start> nguyện chúng sinh vô vàn <end>\n",
            "Input: <start> nguyện chúng sinh vô vàn <end> => <start> về chân thân huệ ðức <end>\n",
            "Input: <start> về chân thân huệ ðức <end> => <start> khơi lò thanh tịnh trầm <end>\n",
            "Input: <start> khơi lò thanh tịnh trầm <end> => <start> gió đưa mười cõi thơm <end>\n",
            "Input: <start> gió đưa mười cõi thơm <end> => <start> nguyện theo vô lượng phật <end>\n",
            "Input: <start> nguyện theo vô lượng phật <end> => <start> cúng dường tri kiến hương <end>\n",
            "Input: <start> cúng dường tri kiến hương <end> => <start> như trái dâng cúng phật <end>\n",
            "Input: <start> như trái dâng cúng phật <end> => <start> kết hạt chắc bồ đề <end>\n",
            "Input: <start> kết hạt chắc bồ đề <end> => <start> nguyện chúng sinh sáu ngả <end>\n",
            "Input: <start> nguyện chúng sinh sáu ngả <end> => <start> tinh tấn chuyển tham mê <end>\n",
            "Input: <start> tinh tấn chuyển tham mê <end> => <start> như hoa thơm cúng phật <end>\n",
            "Input: <start> như hoa thơm cúng phật <end> => <start> tam nghiệp giới hương xông <end>\n",
            "Input: <start> tam nghiệp giới hương xông <end> => <start> nguyện khắp ba thời mộng <end>\n",
            "Input: <start> nguyện khắp ba thời mộng <end> => <start> bừng mở tâm viên đồng <end>\n",
            "Input: <start> bừng mở tâm viên đồng <end> => <start> ba hồi âm định lực <end>\n",
            "Input: <start> ba hồi âm định lực <end> => <start> ngọn triều chuyển sóng cao <end>\n",
            "Input: <start> ngọn triều chuyển sóng cao <end> => <start> rung động đất mê vọng <end>\n",
            "Input: <start> rung động đất mê vọng <end> => <start> rực chiếu mười cõi sao <end>\n",
            "Input: <start> rực chiếu mười cõi sao <end> => <start> cầu chi ba tạng sách <end>\n",
            "Input: <start> cầu chi ba tạng sách <end> => <start> chuyển hóa sáu trần lao <end>\n",
            "Input: <start> chuyển hóa sáu trần lao <end> => <start> nguyện mười phương thế giới <end>\n",
            "Input: <start> nguyện mười phương thế giới <end> => <start> thể nhập ánh phật hào <end>\n",
            "Input: <start> thể nhập ánh phật hào <end> => <start> tâm trụ pho diệu kinh <end>\n",
            "Input: <start> tâm trụ pho diệu kinh <end> => <start> lắng tan ba nghiệp vọng <end>\n",
            "Input: <start> lắng tan ba nghiệp vọng <end> => <start> nguyện khắp mười phương mộng <end>\n",
            "Input: <start> nguyện khắp mười phương mộng <end> => <start> chan chứa phật quang minh <end>\n",
            "Input: <start> chan chứa phật quang minh <end> => <start> tay mở trang kinh thơm <end>\n",
            "Input: <start> tay mở trang kinh thơm <end> => <start> như bừng khai trí huệ <end>\n",
            "Input: <start> như bừng khai trí huệ <end> => <start> cầu chư phật mười phương <end>\n",
            "Input: <start> cầu chư phật mười phương <end> => <start> sáng soi dòng pháp kệ <end>\n",
            "Input: <start> sáng soi dòng pháp kệ <end> => <start> như thắng cương buộc ngựa <end>\n",
            "Input: <start> như thắng cương buộc ngựa <end> => <start> ý thoát khỏi mê đường <end>\n",
            "Input: <start> ý thoát khỏi mê đường <end> => <start> nguyện mở bảy cửa ngục <end>\n",
            "Input: <start> nguyện mở bảy cửa ngục <end> => <start> cứu nhất thiết tai ương <end>\n",
            "Input: <start> cứu nhất thiết tai ương <end> => <start> khép kinh khi tụng xong <end>\n",
            "Input: <start> khép kinh khi tụng xong <end> => <start> vừa khép pho nhật nguyệt <end>\n",
            "Input: <start> vừa khép pho nhật nguyệt <end> => <start> lòng tỏa ánh quang minh <end>\n",
            "Input: <start> lòng tỏa ánh quang minh <end> => <start> nguyện nêu đuốc bất nhị <end>\n",
            "Input: <start> nguyện nêu đuốc bất nhị <end> => <start> soi rọi khắp sinh linh <end>\n",
            "Input: <start> soi rọi khắp sinh linh <end> => <start> nguyện lìa nhất thiết tướng <end>\n",
            "Input: <start> nguyện lìa nhất thiết tướng <end> => <start> như bỏ bè qua sông <end>\n",
            "Input: <start> như bỏ bè qua sông <end> => <start> nguyện vào nhất thiết tướng <end>\n",
            "Input: <start> nguyện vào nhất thiết tướng <end> => <start> hóa chuyển ngục trần hồng <end>\n",
            "Input: <start> thời gian như tiền bạc <end> => <start> anh sống qua một ngày <end>\n",
            "Input: <start> anh sống qua một ngày <end> => <start> thì có nghĩa ngày ấy <end>\n",
            "Input: <start> thì có nghĩa ngày ấy <end> => <start> không còn nữa từ nay <end>\n",
            "Input: <start> không còn nữa từ nay <end> => <start> thời gian như tiền bạc <end>\n",
            "Input: <start> thời gian như tiền bạc <end> => <start> nhớ tiết kiệm từng đồng <end>\n",
            "Input: <start> nhớ tiết kiệm từng đồng <end> => <start> tiền bạc kiếm lại được <end>\n",
            "Input: <start> tiền bạc kiếm lại được <end> => <start> còn thời gian thì không <end>\n",
            "Input: <start> tuổi tên phơi phía trước <end> => <start> hoạ phúc ẩn sau trang <end>\n",
            "Input: <start> với những gì đang có <end> => <start> hãy cảm ơn đất trời <end>\n",
            "Input: <start> hãy cảm ơn đất trời <end> => <start> rồi bạn có thể có <end>\n",
            "Input: <start> rồi bạn có thể có <end> => <start> nhiều hơn nữa trong đời <end>\n",
            "Input: <start> nhiều hơn nữa trong đời <end> => <start> chứ suốt ngày mong ước <end>\n",
            "Input: <start> chứ suốt ngày mong ước <end> => <start> những gì đang trong mơ <end>\n",
            "Input: <start> những gì đang trong mơ <end> => <start> suốt đời bạn đau khổ <end>\n",
            "Input: <start> suốt đời bạn đau khổ <end> => <start> không thấy đủ bao giờ <end>\n",
            "Input: <start> với trẻ con tốt nhất <end> => <start> là không cho chúng tiền <end>\n",
            "Input: <start> là không cho chúng tiền <end> => <start> giúp làm bài đi dạo <end>\n",
            "Input: <start> giúp làm bài đi dạo <end> => <start> đỡ tốn và đỡ phiền <end>\n",
            "Input: <start> đỡ tốn và đỡ phiền <end> => <start> thật đẹp và ý nghĩa <end>\n",
            "Input: <start> thật đẹp và ý nghĩa <end> => <start> bố dắt con dạo chơi <end>\n",
            "Input: <start> bố dắt con dạo chơi <end> => <start> vừa đi vừa bày dạy <end>\n",
            "Input: <start> vừa đi vừa bày dạy <end> => <start> để giúp con thành người <end>\n",
            "Input: <start> tiếng xe đùa qua ngõ <end> => <start> cành nguyệt quế rùng mình <end>\n",
            "Input: <start> cành nguyệt quế rùng mình <end> => <start> hương tan trên dấu lặng <end>\n",
            "Input: <start> hương tan trên dấu lặng <end> => <start> giai điệu tròn lung linh <end>\n",
            "Input: <start> chung trà đã lịm khói <end> => <start> hàng chữ vẫn nối dài <end>\n",
            "Input: <start> hàng chữ vẫn nối dài <end> => <start> thế sự chùm hoa dại <end>\n",
            "Input: <start> thế sự chùm hoa dại <end> => <start> ủ mờ con mắt cay <end>\n",
            "Input: <start> sợi tóc cứ gầy đi <end> => <start> qua những đêm khó ngủ <end>\n",
            "Input: <start> thoáng bút mực lặng thinh <end> => <start> khơi vơi một thoáng tình <end>\n",
            "Input: <start> khơi vơi một thoáng tình <end> => <start> thoáng mai bên thoáng nguyệt <end>\n",
            "Input: <start> thoáng mai bên thoáng nguyệt <end> => <start> ơi tao ngộ thoáng mình <end>\n",
            "Input: <start> hỏi thử kiếp con người <end> => <start> đã có mấy khi vui <end>\n",
            "Input: <start> đã có mấy khi vui <end> => <start> hoá ra trong nhịp võng <end>\n",
            "Input: <start> hoá ra trong nhịp võng <end> => <start> đã thoáng câu trả lời <end>\n",
            "Input: <start> mỗi giữa cõi thơ này <end> => <start> mới có thoáng mây bay <end>\n",
            "Input: <start> mới có thoáng mây bay <end> => <start> mới có thoáng trăng tỏ <end>\n",
            "Input: <start> mới có thoáng trăng tỏ <end> => <start> thoáng sum nọ  thoáng vầy <end>\n",
            "Input: <start> nước mắt tuôn trong veo <end> => <start> hỏi rằng nguồn có sạch <end>\n",
            "Input: <start> một thoáng hạnh phương tâm <end> => <start> cát lỡ thương bụi lầm <end>\n",
            "Input: <start> cát lỡ thương bụi lầm <end> => <start> có điều trong bảng lảng <end>\n",
            "Input: <start> có điều trong bảng lảng <end> => <start> hằng tủm tỉm thương sâm <end>\n",
            "Input: <start> một thoáng tiết thanh minh <end> => <start> thoáng ta gặp thoáng mình <end>\n",
            "Input: <start> thoáng ta gặp thoáng mình <end> => <start> thoáng kim bên thoáng đạm <end>\n",
            "Input: <start> thoáng kim bên thoáng đạm <end> => <start> đẹp thoáng kiều ba sinh <end>\n",
            "Input: <start> thoáng qua rồi thoáng lại <end> => <start> từng thoáng thoáng xuân thu <end>\n",
            "Input: <start> từng thoáng thoáng xuân thu <end> => <start> động khẩu ưng trường tại <end>\n",
            "Input: <start> động khẩu ưng trường tại <end> => <start> ồ bướm bướm ngao du <end>\n",
            "Input: <start> mặt phẳng ánh sáng ở <end> => <start> hang hốc  bóng tối về <end>\n",
            "Input: <start> cứ từng từng thoáng một <end> => <start> ơi con chim ột rột <end>\n",
            "Input: <start> ơi con chim ột rột <end> => <start> cứ từng từng thoáng đôi <end>\n",
            "Input: <start> cứ từng từng thoáng đôi <end> => <start> ơi ngôi chùa một cột <end>\n",
            "Input: <start> nhịp võng lại rồi qua <end> => <start> vì thơ a di đà <end>\n",
            "Input: <start> vì thơ a di đà <end> => <start> vãng sanh lại hồi nhập <end>\n",
            "Input: <start> vãng sanh lại hồi nhập <end> => <start> thoáng thoáng mạn đà la <end>\n",
            "Input: <start> gió về cây vật vã <end> => <start> em đi anh lạc đường <end>\n",
            "Input: <start> một thoáng sát na ơi <end> => <start> trong em thoáng nụ cười <end>\n",
            "Input: <start> trong em thoáng nụ cười <end> => <start> trong anh thoáng hạt lệ <end>\n",
            "Input: <start> trong anh thoáng hạt lệ <end> => <start> long lanh chín dặm trời <end>\n",
            "Input: <start> cùng quây quần lại đây <end> => <start> nào các em miền xuôi <end>\n",
            "Input: <start> nào các em miền xuôi <end> => <start> nào các em miền ngược <end>\n",
            "Input: <start> nào các em miền ngược <end> => <start> nghe anh kể chuyện này <end>\n",
            "Input: <start> nghe anh kể chuyện này <end> => <start> chuyện tổ tiên dựng nước <end>\n",
            "Input: <start> chuyện tổ tiên dựng nước <end> => <start> có em nào biết được <end>\n",
            "Input: <start> có em nào biết được <end> => <start> vì sao trên đất này <end>\n",
            "Input: <start> vì sao trên đất này <end> => <start> rừng hoang thành biển lúa <end>\n",
            "Input: <start> rừng hoang thành biển lúa <end> => <start> vàng tít tắp hôm nay <end>\n",
            "Input: <start> vàng tít tắp hôm nay <end> => <start> bãi lầy thành đồng muối <end>\n",
            "Input: <start> bãi lầy thành đồng muối <end> => <start> trắng xoá tận chân mây <end>\n",
            "Input: <start> trắng xoá tận chân mây <end> => <start> có em nào biết được <end>\n",
            "Input: <start> có em nào biết được <end> => <start> trải bao đời dựng xây <end>\n",
            "Input: <start> trải bao đời dựng xây <end> => <start> bao lớp người thuở trước <end>\n",
            "Input: <start> bao lớp người thuở trước <end> => <start> cùng góp sức chung tay <end>\n",
            "Input: <start> cùng góp sức chung tay <end> => <start> chuyện kể dài đấy nhé <end>\n",
            "Input: <start> chuyện kể dài đấy nhé <end> => <start> thôi ta bắt đầu ngay <end>\n",
            "Input: <start> run run ve lột xác <end> => <start> màu nhạc mới cựa mình <end>\n",
            "Input: <start> một thoáng  là không thực <end> => <start> do thế  tròn cung bực <end>\n",
            "Input: <start> do thế  tròn cung bực <end> => <start> cấi một thoáng vô cùng <end>\n",
            "Input: <start> cấi một thoáng vô cùng <end> => <start> ấm mười phương tứ đức <end>\n",
            "Input: <start> thu tàn trong lá cây <end> => <start> đời tàn trong ngõ hẹp <end>\n",
            "Input: <start> rễ kiếm sống âm thầm <end> => <start> ngọn cây đầm sương giá <end>\n",
            "Input: <start> ếch nhảy bờ nước lạnh <end> => <start> thuyền chìm giữa sông xanh <end>\n",
            "Input: <start> tha hương giữa làng xóm <end> => <start> đơn côi ngay nhà mình <end>\n",
            "Input: <start> sân thượng khóm hồng nở <end> => <start> lưng trời trăng toả hương <end>\n",
            "Input: <start> mái gà vừa đẻ trứng <end> => <start> tiếng cục tác lăn tròn <end>\n",
            "Input: <start> ngọn gió cần bầu trời <end> => <start> con dơi mong bóng tối <end>\n",
            "Input: <start> đám cháy ở sau lưng <end> => <start> than ôi mày chạy đâu <end>\n",
            "Input: <start> than ôi mày chạy đâu <end> => <start> dưới vòm trời quen thuộc <end>\n",
            "Input: <start> dưới vòm trời quen thuộc <end> => <start> đốt bao nhiêu cỏ mật <end>\n",
            "Input: <start> đốt bao nhiêu cỏ mật <end> => <start> không bay mùi thơm tho <end>\n",
            "Input: <start> không bay mùi thơm tho <end> => <start> càng hun càng đỏ mắt <end>\n",
            "Input: <start> càng hun càng đỏ mắt <end> => <start> quay về thung lũng cò <end>\n",
            "Input: <start> tự ngày xửa ngày xưa <end> => <start> hàng mấy ngàn năm trước <end>\n",
            "Input: <start> hàng mấy ngàn năm trước <end> => <start> có vị thần làm vua <end>\n",
            "Input: <start> có vị thần làm vua <end> => <start> đứng đầu trong xứ lạc <end>\n",
            "Input: <start> đứng đầu trong xứ lạc <end> => <start> dưới một vầng trán cao <end>\n",
            "Input: <start> dưới một vầng trán cao <end> => <start> chếch đôi mày lưỡi mác <end>\n",
            "Input: <start> chếch đôi mày lưỡi mác <end> => <start> có cả hai ngôi sao <end>\n",
            "Input: <start> có cả hai ngôi sao <end> => <start> toả sáng từ đáy mắt <end>\n",
            "Input: <start> toả sáng từ đáy mắt <end> => <start> mỗi bước chân rẽ nước <end>\n",
            "Input: <start> mỗi bước chân rẽ nước <end> => <start> chói một vòng hào quang <end>\n",
            "Input: <start> chói một vòng hào quang <end> => <start> lấp lánh trên áo giáp <end>\n",
            "Input: <start> lấp lánh trên áo giáp <end> => <start> những vẩy bạc vẩy vàng <end>\n",
            "Input: <start> những vẩy bạc vẩy vàng <end> => <start> thấy vua có mình rồng <end>\n",
            "Input: <start> thấy vua có mình rồng <end> => <start> lại tài đi dưới nước <end>\n",
            "Input: <start> lại tài đi dưới nước <end> => <start> dân gọi lạc long quân <end>\n",
            "Input: <start> dân gọi lạc long quân <end> => <start> hay vua rồng xứ lạc <end>\n",
            "Input: <start> lòng vua rất thương dân <end> => <start> làm ăn bao vất vả <end>\n",
            "Input: <start> làm ăn bao vất vả <end> => <start> núi cao đầy thú rừng <end>\n",
            "Input: <start> núi cao đầy thú rừng <end> => <start> biển sâu trào sóng cả <end>\n",
            "Input: <start> biển sâu trào sóng cả <end> => <start> người bắt ốc ven sông <end>\n",
            "Input: <start> người bắt ốc ven sông <end> => <start> kẻ vào rừng đào củ <end>\n",
            "Input: <start> kẻ vào rừng đào củ <end> => <start> chênh vênh những nhà sàn <end>\n",
            "Input: <start> chênh vênh những nhà sàn <end> => <start> đêm nghe gầm tiếng hổ <end>\n",
            "Input: <start> đêm nghe gầm tiếng hổ <end> => <start> ăn quả rừng thay cơm <end>\n",
            "Input: <start> ăn quả rừng thay cơm <end> => <start> bột báng hoà nấu cháo <end>\n",
            "Input: <start> bột báng hoà nấu cháo <end> => <start> bện cỏ làm chiếu chăn <end>\n",
            "Input: <start> bện cỏ làm chiếu chăn <end> => <start> tước vỏ cây dệt áo <end>\n",
            "Input: <start> tước vỏ cây dệt áo <end> => <start> rừng núi dày lau sậy <end>\n",
            "Input: <start> rừng núi dày lau sậy <end> => <start> cỏ mọc kín đồi nương <end>\n",
            "Input: <start> cỏ mọc kín đồi nương <end> => <start> thác lũ tràn cuốn chảy <end>\n",
            "Input: <start> thác lũ tràn cuốn chảy <end> => <start> bùn ngập những bãi hoang <end>\n",
            "Input: <start> bùn ngập những bãi hoang <end> => <start> vua nghĩ ngợi bao ngày <end>\n",
            "Input: <start> vua nghĩ ngợi bao ngày <end> => <start> thương nhân dân nghèo đói <end>\n",
            "Input: <start> thương nhân dân nghèo đói <end> => <start> nào phải xứ lạc này <end>\n",
            "Input: <start> nào phải xứ lạc này <end> => <start> đất nuôi người không nổi <end>\n",
            "Input: <start> đất nuôi người không nổi <end> => <start>  nhưng vì đâu vì đâu <end>\n",
            "Input: <start>  nhưng vì đâu vì đâu <end> => <start> dân ta còn chịu khổ <end>\n",
            "Input: <start> dân ta còn chịu khổ <end> => <start> câu hỏi xoáy trong đầu <end>\n",
            "Input: <start> câu hỏi xoáy trong đầu <end> => <start> bao đêm dài không ngủ <end>\n",
            "Input: <start> bao đêm dài không ngủ <end> => <start> thế rồi một buổi sáng <end>\n",
            "Input: <start> thế rồi một buổi sáng <end> => <start> ngựa đã thắng yên cương <end>\n",
            "Input: <start> ngựa đã thắng yên cương <end> => <start> thăm nhân dân sinh sống <end>\n",
            "Input: <start> thăm nhân dân sinh sống <end> => <start> vua cùng quân lên đường <end>\n",
            "Input: <start> mùa thu chỉ có lá <end> => <start> em không nghe rừng thu <end>\n",
            "Input: <start> em không nghe rừng thu <end> => <start> rừng mưa to gió cả <end>\n",
            "Input: <start> rừng mưa to gió cả <end> => <start> em thích nghe mùa xuân <end>\n",
            "Input: <start> em thích nghe mùa xuân <end> => <start> con nai vàng ngơ ngác <end>\n",
            "Input: <start> con nai vàng ngơ ngác <end> => <start> nó ca bài cải lương <end>\n",
            "Input: <start> hoa đẹp vì sẽ tàn <end> => <start> tình đẹp vì sẽ tan <end>\n",
            "Input: <start> tình đẹp vì sẽ tan <end> => <start> lệ xanh rơi từng đoạn <end>\n",
            "Input: <start> lệ xanh rơi từng đoạn <end> => <start> đời đẹp những trái ngang <end>\n",
            "Input: <start> cuộc chiến tranh đi qua <end> => <start> rồi trở lại ngôi nhà <end>\n",
            "Input: <start> rồi trở lại ngôi nhà <end> => <start> đốt lên ngọn lửa ấm <end>\n",
            "Input: <start> đốt lên ngọn lửa ấm <end> => <start> ngủ ngon a kai ơi <end>\n",
            "Input: <start> ngủ ngon a kai ơi <end> => <start> ngủ ngon a kai à <end>\n",
            "Input: <start> đến một chiều mù sương <end> => <start> mặt trời tà sau núi <end>\n",
            "Input: <start> mặt trời tà sau núi <end> => <start> vua tới bên cửa rừng <end>\n",
            "Input: <start> vua tới bên cửa rừng <end> => <start> nơi ánh đèn le lói <end>\n",
            "Input: <start> nơi ánh đèn le lói <end> => <start> ôm con trong bóng tối <end>\n",
            "Input: <start> ôm con trong bóng tối <end> => <start> người mẹ cúi gục đầu <end>\n",
            "Input: <start> người mẹ cúi gục đầu <end> => <start> vai gầy xoà tóc rối <end>\n",
            "Input: <start> vai gầy xoà tóc rối <end> => <start> tiếng nấc nghẹn thương đau <end>\n",
            "Input: <start> tiếng nấc nghẹn thương đau <end> => <start> vua ân cần hỏi chuyện <end>\n",
            "Input: <start> vua ân cần hỏi chuyện <end> => <start> người mẹ kể đầu đuôi <end>\n",
            "Input: <start> người mẹ kể đầu đuôi <end> => <start>  chồng đến phiên nộp mạng <end>\n",
            "Input: <start>  chồng đến phiên nộp mạng <end> => <start> cho quỷ ăn thịt rồi <end>\n",
            "Input: <start> cho quỷ ăn thịt rồi <end> => <start> xưa vốn ở chốn đây <end>\n",
            "Input: <start> xưa vốn ở chốn đây <end> => <start> có một cây cổ thụ <end>\n",
            "Input: <start> có một cây cổ thụ <end> => <start> lá che rợp mặt trời <end>\n",
            "Input: <start> lá che rợp mặt trời <end> => <start> nhưng bão rừng cuốn đổ <end>\n",
            "Input: <start> nhưng bão rừng cuốn đổ <end> => <start> từ gốc nhà mọt ruỗng <end>\n",
            "Input: <start> từ gốc nhà mọt ruỗng <end> => <start> hoá thành giống mộc tinh <end>\n",
            "Input: <start> hoá thành giống mộc tinh <end> => <start> bắt người ăn thịt sống <end>\n",
            "Input: <start> bắt người ăn thịt sống <end> => <start> gây bao nỗi khiếp kinh <end>\n",
            "Input: <start> gây bao nỗi khiếp kinh <end> => <start> nghĩ thương dân đau khổ <end>\n",
            "Input: <start> nghĩ thương dân đau khổ <end> => <start> vua tìm đến cánh rừng <end>\n",
            "Input: <start> vua tìm đến cánh rừng <end> => <start> nơi có cây cổ thụ <end>\n",
            "Input: <start> nơi có cây cổ thụ <end> => <start> quyết diệt mối hoạ chung <end>\n",
            "Input: <start> quyết diệt mối hoạ chung <end> => <start> thấy kiếm loé hào quang <end>\n",
            "Input: <start> thấy kiếm loé hào quang <end> => <start> sáng đỉnh rừng măt suối <end>\n",
            "Input: <start> sáng đỉnh rừng măt suối <end> => <start> mộc tinh đã vội vàng <end>\n",
            "Input: <start> mộc tinh đã vội vàng <end> => <start> lẩn mình vào bóng tối <end>\n",
            "Input: <start> lẩn mình vào bóng tối <end> => <start> lúc biến thành cây rừng <end>\n",
            "Input: <start> lúc biến thành cây rừng <end> => <start> khi hoá làm vách núi <end>\n",
            "Input: <start> khi hoá làm vách núi <end> => <start> săn đuổi mấy tháng ròng <end>\n",
            "Input: <start> săn đuổi mấy tháng ròng <end> => <start> chân long quân chẳng mỏi <end>\n",
            "Input: <start> chân long quân chẳng mỏi <end> => <start> vừa trọn một năm sau <end>\n",
            "Input: <start> vừa trọn một năm sau <end> => <start> thêm vua cha giúp sức <end>\n",
            "Input: <start> thêm vua cha giúp sức <end> => <start> dân khắp miền kéo vào <end>\n",
            "Input: <start> dân khắp miền kéo vào <end> => <start> quanh khu rừng khép chặt <end>\n",
            "Input: <start> quanh khu rừng khép chặt <end> => <start> như một cơn gió lốc <end>\n",
            "Input: <start> như một cơn gió lốc <end> => <start> cuồn cuộn giữa rừng cây <end>\n",
            "Input: <start> cuồn cuộn giữa rừng cây <end> => <start> mộc tinh nào trốn thoát <end>\n",
            "Input: <start> mộc tinh nào trốn thoát <end> => <start> giữa trùng trùng lưới vây <end>\n",
            "Input: <start> giữa trùng trùng lưới vây <end> => <start> cây rung lá ào ào <end>\n",
            "Input: <start> cây rung lá ào ào <end> => <start> trận cuối cùng quyết liệt <end>\n",
            "Input: <start> trận cuối cùng quyết liệt <end> => <start> mộc tinh hết phép màu <end>\n",
            "Input: <start> mộc tinh hết phép màu <end> => <start> phải cúi đầu khuất phục <end>\n",
            "Input: <start> phải cúi đầu khuất phục <end> => <start> nhờ diệt tan ác quỷ <end>\n",
            "Input: <start> nhờ diệt tan ác quỷ <end> => <start> đồi núi lại yên lành <end>\n",
            "Input: <start> đồi núi lại yên lành <end> => <start> kẻ làm nương hái củi <end>\n",
            "Input: <start> kẻ làm nương hái củi <end> => <start> tiếng người rộn rừng xanh <end>\n",
            "Input: <start> dân đất rừng vui sống <end> => <start> long quân tạm yên lòng <end>\n",
            "Input: <start> long quân tạm yên lòng <end> => <start> vua lại lên mình ngựa <end>\n",
            "Input: <start> vua lại lên mình ngựa <end> => <start> xuôi theo những dòng sông <end>\n",
            "Input: <start> xuôi theo những dòng sông <end> => <start> vừa đến đất long biên <end>\n",
            "Input: <start> vừa đến đất long biên <end> => <start> dừng chân bờ sông cái <end>\n",
            "Input: <start> dừng chân bờ sông cái <end> => <start> nghe đồn chuyện ly tinh <end>\n",
            "Input: <start> nghe đồn chuyện ly tinh <end> => <start> dân khắp vùng sợ hãi <end>\n",
            "Input: <start> dân khắp vùng sợ hãi <end> => <start> ly tinh có chín đuôi <end>\n",
            "Input: <start> ly tinh có chín đuôi <end> => <start> cáo già nghìn tuổi lẻ <end>\n",
            "Input: <start> cáo già nghìn tuổi lẻ <end> => <start> lúc hoá phép làm người <end>\n",
            "Input: <start> lúc hoá phép làm người <end> => <start> lúc biến thành ma quỷ <end>\n",
            "Input: <start> lúc biến thành ma quỷ <end> => <start> bắt dân nhốt hang sâu <end>\n",
            "Input: <start> bắt dân nhốt hang sâu <end> => <start> đột lốtt người trà trộn <end>\n",
            "Input: <start> đột lốtt người trà trộn <end> => <start> gây bao nỗi khổ đau <end>\n",
            "Input: <start> gây bao nỗi khổ đau <end> => <start> dân bỏ làng chạy trốn <end>\n",
            "Input: <start> dân bỏ làng chạy trốn <end> => <start> lau sậy chen bờ hoang <end>\n",
            "Input: <start> lau sậy chen bờ hoang <end> => <start> đất phù sa màu mỡ <end>\n",
            "Input: <start> đất phù sa màu mỡ <end> => <start> mà cỏ ngập đồng làng <end>\n",
            "Input: <start> mà cỏ ngập đồng làng <end> => <start> vì không người cày vỡ <end>\n",
            "Input: <start> vì không người cày vỡ <end> => <start> khi long quân đến nơi <end>\n",
            "Input: <start> khi long quân đến nơi <end> => <start> xông thẳng vào hang núi <end>\n",
            "Input: <start> xông thẳng vào hang núi <end> => <start> ly tinh thấy bóng người <end>\n",
            "Input: <start> ly tinh thấy bóng người <end> => <start> nhe nanh dài chồm tới <end>\n",
            "Input: <start> nhe nanh dài chồm tới <end> => <start> nhưng dẫu nghìn phép lạ <end>\n",
            "Input: <start> nhưng dẫu nghìn phép lạ <end> => <start> vẫn thua mũi kiếm thần <end>\n",
            "Input: <start> vẫn thua mũi kiếm thần <end> => <start> chém nát đầu ác thú <end>\n",
            "Input: <start> chém nát đầu ác thú <end> => <start> vua đạp xác dưới chân <end>\n",
            "Input: <start> vua đạp xác dưới chân <end> => <start> long quân truyền lệnh gấp <end>\n",
            "Input: <start> long quân truyền lệnh gấp <end> => <start> cứu bao người bị giam <end>\n",
            "Input: <start> cứu bao người bị giam <end> => <start> đoạn tháo sông tràn ngập <end>\n",
            "Input: <start> đoạn tháo sông tràn ngập <end> => <start> nước mạnh lùa cửa hang <end>\n",
            "Input: <start> nước mạnh lùa cửa hang <end> => <start> ào ào dòng sông cái <end>\n",
            "Input: <start> ào ào dòng sông cái <end> => <start> chảy xiết mấy đêm ròng <end>\n",
            "Input: <start> chảy xiết mấy đêm ròng <end> => <start> núi cuốn theo nước xoáy <end>\n",
            "Input: <start> núi cuốn theo nước xoáy <end> => <start> thành mặt hồ mênh mông <end>\n",
            "Input: <start> thành mặt hồ mênh mông <end> => <start> và vùng đất ven hồ <end>\n",
            "Input: <start> và vùng đất ven hồ <end> => <start> xưa lút đầu cỏ dại <end>\n",
            "Input: <start> xưa lút đầu cỏ dại <end> => <start> giờ bay mỏi cánh cò <end>\n",
            "Input: <start> giờ bay mỏi cánh cò <end> => <start> trên màu xanh lúa trải <end>\n",
            "Input: <start> trên màu xanh lúa trải <end> => <start> bãi lầy thành vườn tược <end>\n",
            "Input: <start> bãi lầy thành vườn tược <end> => <start> quá chín trĩu cành sây <end>\n",
            "Input: <start> quá chín trĩu cành sây <end> => <start> làng hồ soi bóng nước <end>\n",
            "Input: <start> làng hồ soi bóng nước <end> => <start> lồng lộng mặt hồ tây <end>\n",
            "Input: <start> diệt xong cáo chín đuôi <end> => <start> rời đồng bằng yên tĩnh <end>\n",
            "Input: <start> rời đồng bằng yên tĩnh <end> => <start> vua đi tiếp về xuôi <end>\n",
            "Input: <start> vua đi tiếp về xuôi <end> => <start> nơi rì rầm sóng biển <end>\n",
            "Input: <start> nơi rì rầm sóng biển <end> => <start> nhà vua dừng ngựa lại <end>\n",
            "Input: <start> nhà vua dừng ngựa lại <end> => <start> một chiều bên biển đông <end>\n",
            "Input: <start> một chiều bên biển đông <end> => <start> tiếng khóc đâu vẳng tới <end>\n",
            "Input: <start> tiếng khóc đâu vẳng tới <end> => <start> khiến long quân chạnh lòng <end>\n",
            "Input: <start> khiến long quân chạnh lòng <end> => <start> kìa xa trên bãi cát <end>\n",
            "Input: <start> kìa xa trên bãi cát <end> => <start> dân chài đứng xúm đông <end>\n",
            "Input: <start> dân chài đứng xúm đông <end> => <start> quanh xác thuyền sóng giạt <end>\n",
            "Input: <start> quanh xác thuyền sóng giạt <end> => <start> giữa một ngày trời trong <end>\n",
            "Input: <start> giữa một ngày trời trong <end> => <start> gạt nước mắt tuôn ròng <end>\n",
            "Input: <start> gạt nước mắt tuôn ròng <end> => <start> một ông già kể lại <end>\n",
            "Input: <start> một ông già kể lại <end> => <start> những đau khổ xé lòng <end>\n",
            "Input: <start> những đau khổ xé lòng <end> => <start> để vua hay mọi nỗi <end>\n",
            "Input: <start> để vua hay mọi nỗi <end> => <start>  chúng tôi dân chài lưới <end>\n",
            "Input: <start>  chúng tôi dân chài lưới <end> => <start> sống dựa vào biển khơi <end>\n",
            "Input: <start> sống dựa vào biển khơi <end> => <start> ngày biển lành sóng lặng <end>\n",
            "Input: <start> ngày biển lành sóng lặng <end> => <start> mà chết oan bao người <end>\n",
            "Input: <start> mà chết oan bao người <end> => <start> con cả đã ra khơi <end>\n",
            "Input: <start> con cả đã ra khơi <end> => <start> đi rồi không trở lại <end>\n",
            "Input: <start> đi rồi không trở lại <end> => <start> nay còn đứa cháu trai <end>\n",
            "Input: <start> nay còn đứa cháu trai <end> => <start> xác cũng không được thấy <end>\n",
            "Input: <start> xác cũng không được thấy <end> => <start> cả một vùng duyên hải <end>\n",
            "Input: <start> cả một vùng duyên hải <end> => <start> bao vợ trẻ mất chồng <end>\n",
            "Input: <start> bao vợ trẻ mất chồng <end> => <start> bao con thơ mất bố <end>\n",
            "Input: <start> bao con thơ mất bố <end> => <start> nước mắt đầy biển đông <end>\n",
            "Input: <start> nước mắt đầy biển đông <end> => <start> ông già chỉ tay ra <end>\n",
            "Input: <start> ông già chỉ tay ra <end> => <start> eo biển bên vách núi <end>\n",
            "Input: <start> eo biển bên vách núi <end> => <start>  kẻ thù nào đâu xa <end>\n",
            "Input: <start>  kẻ thù nào đâu xa <end> => <start> chính nó còn ở đấy <end>\n",
            "Input: <start> chính nó còn ở đấy <end> => <start> tên nó là ngư tinh <end>\n",
            "Input: <start> tên nó là ngư tinh <end> => <start> vốn thuộc loài cá dữ <end>\n",
            "Input: <start> vốn thuộc loài cá dữ <end> => <start> sống ở đây bao đời <end>\n",
            "Input: <start> sống ở đây bao đời <end> => <start> không ai còn nhớ nữa <end>\n",
            "Input: <start> không ai còn nhớ nữa <end> => <start> thân dài mấy con sào <end>\n",
            "Input: <start> thân dài mấy con sào <end> => <start> da mốc màu đá xám <end>\n",
            "Input: <start> da mốc màu đá xám <end> => <start> hai con mắt đỏ ngầu <end>\n",
            "Input: <start> hai con mắt đỏ ngầu <end> => <start> hằn những tia lửa giận <end>\n",
            "Input: <start> hằn những tia lửa giận <end> => <start> răng sắc mũi dao mài <end>\n",
            "Input: <start> răng sắc mũi dao mài <end> => <start> miệng sâu như đáy vực <end>\n",
            "Input: <start> miệng sâu như đáy vực <end> => <start> nuốt năm bảy mạng người <end>\n",
            "Input: <start> nuốt năm bảy mạng người <end> => <start> ngư tinh chưa thoả sức <end>\n",
            "Input: <start> ngư tinh chưa thoả sức <end> => <start> dọc ngang trên mặt sóng <end>\n",
            "Input: <start> dọc ngang trên mặt sóng <end> => <start> khắp một vùng biển xanh <end>\n",
            "Input: <start> khắp một vùng biển xanh <end> => <start> giở trăm ngàn phép quỷ <end>\n",
            "Input: <start> giở trăm ngàn phép quỷ <end> => <start> hãm lại những dân lành <end>\n",
            "Input: <start> hãm lại những dân lành <end> => <start> nó lao mình xé nước <end>\n",
            "Input: <start> nó lao mình xé nước <end> => <start> sóng cao vượt mái nhà <end>\n",
            "Input: <start> sóng cao vượt mái nhà <end> => <start> mặt biển xanh nhàu nát <end>\n",
            "Input: <start> mặt biển xanh nhàu nát <end> => <start> trong gió giật mưa sa <end>\n",
            "Input: <start> trong gió giật mưa sa <end> => <start> gặp bóng thuyền ra khơi <end>\n",
            "Input: <start> gặp bóng thuyền ra khơi <end> => <start> vội quẫy đuôi dậy sóng <end>\n",
            "Input: <start> vội quẫy đuôi dậy sóng <end> => <start> thuyền đắm xác dân chài <end>\n",
            "Input: <start> thuyền đắm xác dân chài <end> => <start> thành mồi ngon căng bụng <end>\n",
            "Input: <start> thành mồi ngon căng bụng <end> => <start> chuyến thuyền về chiều nay <end>\n",
            "Input: <start> chuyến thuyền về chiều nay <end> => <start> mất cả người lẫn cá <end>\n",
            "Input: <start> mất cả người lẫn cá <end> => <start> sóng đánh giạt vào đây <end>\n",
            "Input: <start> sóng đánh giạt vào đây <end> => <start> mảnh ván thuyền nát vỡ <end>\n",
            "Input: <start> mảnh ván thuyền nát vỡ <end> => <start> nghe ông già kể xong <end>\n",
            "Input: <start> nghe ông già kể xong <end> => <start> long quân bao căm uất <end>\n",
            "Input: <start> long quân bao căm uất <end> => <start> thương dân đau quặn lòng <end>\n",
            "Input: <start> thương dân đau quặn lòng <end> => <start> vua quyết trừ quái vật <end>\n",
            "Input: <start> mong soi gương mặt người <end> => <start> bỗng cơn giông nổi dậy <end>\n",
            "Input: <start> bỗng cơn giông nổi dậy <end> => <start> mây che một khung trời <end>\n",
            "Input: <start> mây che một khung trời <end> => <start> đất sau mưa hỡi đất <end>\n",
            "Input: <start> đất sau mưa hỡi đất <end> => <start> màu mỡ trôi về đâu <end>\n",
            "Input: <start> màu mỡ trôi về đâu <end> => <start> còn trơ chiếc guốc võng <end>\n",
            "Input: <start> còn trơ chiếc guốc võng <end> => <start> trăng mài mòn canh thâu <end>\n",
            "Input: <start> ta có bảy ngàn đêm <end> => <start> ngủ trên miền đất mẹ <end>\n",
            "Input: <start> ngủ trên miền đất mẹ <end> => <start> qua một thời thơ bé <end>\n",
            "Input: <start> qua một thời thơ bé <end> => <start> nghe đại bác ru đêm <end>\n",
            "Input: <start> nghe đại bác ru đêm <end> => <start> ta có bảy ngàn đêm <end>\n",
            "Input: <start> ta có bảy ngàn đêm <end> => <start> chưa yên vui giấc ngủ <end>\n",
            "Input: <start> chưa yên vui giấc ngủ <end> => <start> bởi năm dài khoai củ <end>\n",
            "Input: <start> bởi năm dài khoai củ <end> => <start> áo rách lạnh từng đêm <end>\n",
            "Input: <start> áo rách lạnh từng đêm <end> => <start> em thêm bảy ngàn đêm <end>\n",
            "Input: <start> em thêm bảy ngàn đêm <end> => <start> lìa xa miền yêu dấu <end>\n",
            "Input: <start> lìa xa miền yêu dấu <end> => <start> tìm về nơi nương náu <end>\n",
            "Input: <start> tìm về nơi nương náu <end> => <start> mang đời đổi thay tên <end>\n",
            "Input: <start> mang đời đổi thay tên <end> => <start> anh thêm bảy ngàn đêm <end>\n",
            "Input: <start> anh thêm bảy ngàn đêm <end> => <start> trôi trên miền yêu dấu <end>\n",
            "Input: <start> trôi trên miền yêu dấu <end> => <start> như thuyền không bến đậu <end>\n",
            "Input: <start> như thuyền không bến đậu <end> => <start> theo ngày dài buồn tênh <end>\n",
            "Input: <start> theo ngày dài buồn tênh <end> => <start> ta còn bảy ngàn đêm <end>\n",
            "Input: <start> ta còn bảy ngàn đêm <end> => <start> nếu mà còn có thể <end>\n",
            "Input: <start> nếu mà còn có thể <end> => <start> mình yêu nhau em nhé <end>\n",
            "Input: <start> mình yêu nhau em nhé <end> => <start> cho đời ý nghĩa thêm <end>\n",
            "Input: <start> cho đời ý nghĩa thêm <end> => <start> ta còn bảy ngàn đêm <end>\n",
            "Input: <start> ta còn bảy ngàn đêm <end> => <start> dù môi khô bạc tóc <end>\n",
            "Input: <start> dù môi khô bạc tóc <end> => <start> nhưng xin em đừng khóc <end>\n",
            "Input: <start> nhưng xin em đừng khóc <end> => <start> anh sẽ về với em <end>\n",
            "Input: <start> đi phỏng vấn chí phèo <end> => <start> lão chết từ tám hoánh <end>\n",
            "Input: <start> lão chết từ tám hoánh <end> => <start> đời mày vẫn gieo neo <end>\n",
            "Input: <start> đời mày vẫn gieo neo <end> => <start> còn cái lão bá kiến <end>\n",
            "Input: <start> còn cái lão bá kiến <end> => <start> đục bản in thơ mày <end>\n",
            "Input: <start> đục bản in thơ mày <end> => <start> bao giờ mày say rượu <end>\n",
            "Input: <start> bao giờ mày say rượu <end> => <start> bao giờ thì ra tay <end>\n",
            "Input: <start> anh đi ra sân bắn <end> => <start> trắng trong quần áo trắng <end>\n",
            "Input: <start> trắng trong quần áo trắng <end> => <start> thời gian cứ trôi nhanh <end>\n",
            "Input: <start> thời gian cứ trôi nhanh <end> => <start> từng giây như thúc giục <end>\n",
            "Input: <start> từng giây như thúc giục <end> => <start> tâm trí anh dồn dập <end>\n",
            "Input: <start> tâm trí anh dồn dập <end> => <start> trận tấn công cuối cùng <end>\n",
            "Input: <start> trận tấn công cuối cùng <end> => <start> đôi mắt anh chan chứa <end>\n",
            "Input: <start> đôi mắt anh chan chứa <end> => <start> một tình yêu nồng nàn <end>\n",
            "Input: <start> một tình yêu nồng nàn <end> => <start> yêu quê hương xứ sở <end>\n",
            "Input: <start> yêu quê hương xứ sở <end> => <start> yêu tổ quốc việt nam <end>\n",
            "Input: <start> yêu tổ quốc việt nam <end> => <start> cháy lên như ngọn lửa <end>\n",
            "Input: <start> cháy lên như ngọn lửa <end> => <start> đốt trụi cả loài gian <end>\n",
            "Input: <start> đốt trụi cả loài gian <end> => <start> ôi tương lai rực rỡ <end>\n",
            "Input: <start> ôi tương lai rực rỡ <end> => <start> trong một ánh hào quang <end>\n",
            "Input: <start> trong một ánh hào quang <end> => <start> giọng nói anh dâng cao <end>\n",
            "Input: <start> giọng nói anh dâng cao <end> => <start> một niềm tin mãnh liệt <end>\n",
            "Input: <start> một niềm tin mãnh liệt <end> => <start> tin đồng chí đồng bào <end>\n",
            "Input: <start> tin đồng chí đồng bào <end> => <start> tin bác hồ tha thiết <end>\n",
            "Input: <start> tin bác hồ tha thiết <end> => <start> mạnh như ngọn sóng trào <end>\n",
            "Input: <start> mạnh như ngọn sóng trào <end> => <start> nhận chìm bầy rắn rết <end>\n",
            "Input: <start> nhận chìm bầy rắn rết <end> => <start> mang sức sống tự hào <end>\n",
            "Input: <start> mang sức sống tự hào <end> => <start> vượt qua đầu cái chết <end>\n",
            "Input: <start> vượt qua đầu cái chết <end> => <start> trong 9 phút ngắn ngủi <end>\n",
            "Input: <start> trong 9 phút ngắn ngủi <end> => <start> anh đã thắng quân thù <end>\n",
            "Input: <start> anh đã thắng quân thù <end> => <start> hình ảnh nguyễn văn trỗi <end>\n",
            "Input: <start> hình ảnh nguyễn văn trỗi <end> => <start> thành cờ mọc khắp nơi <end>\n",
            "Input: <start> thành cờ mọc khắp nơi <end> => <start> hãy nhớ lấy lời tôi <end>\n",
            "Input: <start> hãy nhớ lấy lời tôi <end> => <start> thành tiếng ca muôn đời <end>\n",
            "Input: <start> ai nhẹ bước chân xưa <end> => <start> trong tuyệt mù khát vọng <end>\n",
            "Input: <start> trong tuyệt mù khát vọng <end> => <start> ai nặng gót tiễn đưa <end>\n",
            "Input: <start> ai nặng gót tiễn đưa <end> => <start> trong hoang vu nỗi ngóng <end>\n",
            "Input: <start> ai bày đặt chiều nay <end> => <start> xui nên điều gặp gỡ <end>\n",
            "Input: <start> xui nên điều gặp gỡ <end> => <start> dưới vòm xanh tán cây <end>\n",
            "Input: <start> dưới vòm xanh tán cây <end> => <start> trong căn nhà lá nứa <end>\n",
            "Input: <start> trong căn nhà lá nứa <end> => <start> dưới dàn hoa tím đỏ <end>\n",
            "Input: <start> dưới dàn hoa tím đỏ <end> => <start> trong ngào ngạt hương thơm <end>\n",
            "Input: <start> trong ngào ngạt hương thơm <end> => <start> như là câu chuyện cổ <end>\n",
            "Input: <start> như là câu chuyện cổ <end> => <start> của mối tinh duyên tiên <end>\n",
            "Input: <start> của mối tinh duyên tiên <end> => <start> ai bày đặt chiều nay <end>\n",
            "Input: <start> ai bày đặt chiều nay <end> => <start> xui nên điều gặp gỡ <end>\n",
            "Input: <start> xui nên điều gặp gỡ <end> => <start> nếu không là duyên số <end>\n",
            "Input: <start> nếu không là duyên số <end> => <start> nếu không là lứa đôi <end>\n",
            "Input: <start> nếu không là lứa đôi <end> => <start> sao nhìn nhau bối rối <end>\n",
            "Input: <start> sao nhìn nhau bối rối <end> => <start> sao tiễn nhau dùng dằng <end>\n",
            "Input: <start> sao tiễn nhau dùng dằng <end> => <start> sao người đi lối vắng <end>\n",
            "Input: <start> sao người đi lối vắng <end> => <start> sao người buồn dưới trăng <end>\n",
            "Input: <start> sao người buồn dưới trăng <end> => <start> tay người ngắt chùm hoa <end>\n",
            "Input: <start> tay người ngắt chùm hoa <end> => <start> tay người vò nát lá <end>\n",
            "Input: <start> tay người vò nát lá <end> => <start> người với với kẻ ở <end>\n",
            "Input: <start> người với với kẻ ở <end> => <start> có điều gì bâng khuâng <end>\n",
            "Input: <start> có điều gì bâng khuâng <end> => <start> ai bày dặt chiều nay <end>\n",
            "Input: <start> ai bày dặt chiều nay <end> => <start> xui nên điều gặp gỡ <end>\n",
            "Input: <start> xui nên điều gặp gỡ <end> => <start> xin cầu trời điềm may <end>\n",
            "Input: <start> xin cầu trời điềm may <end> => <start> hai người chung nỗi nhớ <end>\n",
            "Input: <start> ở bầu trời nào đó <end> => <start> ai thao thức đêm dài <end>\n",
            "Input: <start> ai thao thức đêm dài <end> => <start> ở một ô cửa sổ <end>\n",
            "Input: <start> ở một ô cửa sổ <end> => <start> biết ai buồn hơn ai <end>\n",
            "Input: <start> biết ai buồn hơn ai <end> => <start> ta mất mát cả hai <end>\n",
            "Input: <start> ta mất mát cả hai <end> => <start> tình yêu còn ở lại <end>\n",
            "Input: <start> tình yêu còn ở lại <end> => <start> dẫu được thua tê tái  <end>\n",
            "Input: <start> dẫu được thua tê tái  <end> => <start> vẫn hạnh phúc đắng lòng <end>\n",
            "Input: <start> vẫn hạnh phúc đắng lòng <end> => <start> em chua chát và anh <end>\n",
            "Input: <start> em chua chát và anh <end> => <start> buồn dâng trong đáy mắt <end>\n",
            "Input: <start> buồn dâng trong đáy mắt <end> => <start> ngỡ ngàng giây gặp mặt <end>\n",
            "Input: <start> ngỡ ngàng giây gặp mặt <end> => <start> mà lòng tắt lửa lòng <end>\n",
            "Input: <start> mà lòng tắt lửa lòng <end> => <start> trong em là mùa đông <end>\n",
            "Input: <start> trong em là mùa đông <end> => <start> trong anh là hoang vắng <end>\n",
            "Input: <start> trong anh là hoang vắng <end> => <start> trái tim giờ đắng lặng <end>\n",
            "Input: <start> trái tim giờ đắng lặng <end> => <start> biết ai buồn hơn ai <end>\n",
            "Input: <start> nắng ngã vàng mong nhớ <end> => <start> ai chờ ai mùa thu <end>\n",
            "Input: <start> ai chờ ai mùa thu <end> => <start> bên thềm hoa nở biếc <end>\n",
            "Input: <start> bên thềm hoa nở biếc <end> => <start> áo chiều xa sương mù <end>\n",
            "Input: <start> áo chiều xa sương mù <end> => <start> một lời sao chẳng ngỏ <end>\n",
            "Input: <start> một lời sao chẳng ngỏ <end> => <start> ngày muộn rồi qua mau <end>\n",
            "Input: <start> ngày muộn rồi qua mau <end> => <start> mưa giăng mờ dốc phố <end>\n",
            "Input: <start> mưa giăng mờ dốc phố <end> => <start> trên môi ai giọt sầu <end>\n",
            "Input: <start> trên môi ai giọt sầu <end> => <start> khúc quanh nào khuất nẻo <end>\n",
            "Input: <start> khúc quanh nào khuất nẻo <end> => <start> sông nước trôi niềm đau <end>\n",
            "Input: <start> sông nước trôi niềm đau <end> => <start> nhịp cầu suông bến vắng <end>\n",
            "Input: <start> nhịp cầu suông bến vắng <end> => <start> ðêm lạnh gió ngang đầu <end>\n",
            "Input: <start> ðêm lạnh gió ngang đầu <end> => <start> ðã bao mùa lá rụng <end>\n",
            "Input: <start> ðã bao mùa lá rụng <end> => <start> trong tim người lãng du <end>\n",
            "Input: <start> trong tim người lãng du <end> => <start> sao mùa xuân đến chậm <end>\n",
            "Input: <start> sao mùa xuân đến chậm <end> => <start> cho buồn lá rừng thu <end>\n",
            "Input: <start> ai cười mà xinh thế <end> => <start> cho lá úa quên tàn <end>\n",
            "Input: <start> cho lá úa quên tàn <end> => <start> trái sầu đương lơ lửng <end>\n",
            "Input: <start> trái sầu đương lơ lửng <end> => <start> ai cười mà xinh thế <end>\n",
            "Input: <start> ai cười mà xinh thế <end> => <start> mưa đứng sững lưng trời <end>\n",
            "Input: <start> mưa đứng sững lưng trời <end> => <start> nắng từ đâu bước lại <end>\n",
            "Input: <start> nắng từ đâu bước lại <end> => <start> tựa vào mưa bồi hồi <end>\n",
            "Input: <start> tựa vào mưa bồi hồi <end> => <start> ai cười mà xinh thế <end>\n",
            "Input: <start> ai cười mà xinh thế <end> => <start> cho trái đất yên bình <end>\n",
            "Input: <start> cho trái đất yên bình <end> => <start> đến đường tăng cũng gật <end>\n",
            "Input: <start> đến đường tăng cũng gật <end> => <start> ừ xinh thật là xinh <end>\n",
            "Input: <start> ừ xinh thật là xinh <end> => <start> ai cười mà xinh thế <end>\n",
            "Input: <start> ai cười mà xinh thế <end> => <start> lão chiến tranh cúi gằm <end>\n",
            "Input: <start> lão chiến tranh cúi gằm <end> => <start> cô bé và cậu bé <end>\n",
            "Input: <start> cô bé và cậu bé <end> => <start> bước tới trường tung tăng <end>\n",
            "Input: <start> ai đi đón mùa hạ <end> => <start> để nắng về xôn xao <end>\n",
            "Input: <start> để nắng về xôn xao <end> => <start> chim đùa trong kẽ lá <end>\n",
            "Input: <start> chim đùa trong kẽ lá <end> => <start> gió thổi từ chiêm bao <end>\n",
            "Input: <start> gió thổi từ chiêm bao <end> => <start> ai đi đón mùa hạ <end>\n",
            "Input: <start> ai đi đón mùa hạ <end> => <start> để sớm mai nắng hong <end>\n",
            "Input: <start> để sớm mai nắng hong <end> => <start> chùm hoa sấu trắng xoá <end>\n",
            "Input: <start> chùm hoa sấu trắng xoá <end> => <start> dường như cũng ửng hồng <end>\n",
            "Input: <start> dường như cũng ửng hồng <end> => <start> ai đi đón mùa hạ <end>\n",
            "Input: <start> ai đi đón mùa hạ <end> => <start> ve đầu mùa thử đàn <end>\n",
            "Input: <start> ve đầu mùa thử đàn <end> => <start> nghe vọng từ xa quá <end>\n",
            "Input: <start> nghe vọng từ xa quá <end> => <start> tựa những lời ríu ran <end>\n",
            "Input: <start> tựa những lời ríu ran <end> => <start> em đi đón mùa hạ <end>\n",
            "Input: <start> em đi đón mùa hạ <end> => <start> anh có về cùng không <end>\n",
            "Input: <start> anh có về cùng không <end> => <start> đường quen mà ngỡ lạ <end>\n",
            "Input: <start> đường quen mà ngỡ lạ <end> => <start> mây vương từng bước chân <end>\n",
            "Input: <start> ai níu mùa xuân xuống <end> => <start> cho tóc ta bồng bềnh <end>\n",
            "Input: <start> cho tóc ta bồng bềnh <end> => <start> lòng vẫn đầy khao khát <end>\n",
            "Input: <start> lòng vẫn đầy khao khát <end> => <start> tình yêu dường mưa xuân <end>\n",
            "Input: <start> tình yêu dường mưa xuân <end> => <start> tình như thuở mười lăm <end>\n",
            "Input: <start> tình như thuở mười lăm <end> => <start> áo ôm vòng eo nhỏ <end>\n",
            "Input: <start> áo ôm vòng eo nhỏ <end> => <start> thanh khiết vai nõn lụa <end>\n",
            "Input: <start> thanh khiết vai nõn lụa <end> => <start> ta dám nào chạm tay <end>\n",
            "Input: <start> ta dám nào chạm tay <end> => <start> tình như thuở xa xăm <end>\n",
            "Input: <start> tình như thuở xa xăm <end> => <start> khi mắt em khép mở <end>\n",
            "Input: <start> khi mắt em khép mở <end> => <start> đôi môi hồng ngúng nguẩy <end>\n",
            "Input: <start> đôi môi hồng ngúng nguẩy <end> => <start> nụ hôn như ngày đầu <end>\n",
            "Input: <start> nụ hôn như ngày đầu <end> => <start> ta oà vỡ vào nhau <end>\n",
            "Input: <start> ta oà vỡ vào nhau <end> => <start> thời gian còn đâu nữa <end>\n",
            "Input: <start> thời gian còn đâu nữa <end> => <start> đất trời ngưng nhịp thở <end>\n",
            "Input: <start> đất trời ngưng nhịp thở <end> => <start> chỉ có mình với nhau <end>\n",
            "Input: <start> chỉ có mình với nhau <end> => <start> và sương mai giăng đầy <end>\n",
            "Input: <start> và sương mai giăng đầy <end> => <start> và cỏ hoa ngập lối <end>\n",
            "Input: <start> và cỏ hoa ngập lối <end> => <start> ta vươn mình uống vội <end>\n",
            "Input: <start> ta vươn mình uống vội <end> => <start> giọt sương thơm đầu ngày <end>\n",
            "Input: <start> chợ trưa ai đợi mẹ <end> => <start> bến khuya ai đợi đò <end>\n",
            "Input: <start> bến khuya ai đợi đò <end> => <start> sông trăng ai đợi bạn <end>\n",
            "Input: <start> sông trăng ai đợi bạn <end> => <start> ngõ tre ai về khuya <end>\n",
            "Input: <start> người ấy đến rất say <end> => <start> từ cao trời bay xuống <end>\n",
            "Input: <start> từ cao trời bay xuống <end> => <start> một vầng trăng tròn đầy <end>\n",
            "Input: <start> một vầng trăng tròn đầy <end> => <start> ngôi sao nào sáng muộn <end>\n",
            "Input: <start> ngôi sao nào sáng muộn <end> => <start> người ấy đến rất dại <end>\n",
            "Input: <start> người ấy đến rất dại <end> => <start> từ sâu rừng chạy ra <end>\n",
            "Input: <start> từ sâu rừng chạy ra <end> => <start> một làn hương thơm ngát <end>\n",
            "Input: <start> một làn hương thơm ngát <end> => <start> tiếng hú nào hoang vu <end>\n",
            "Input: <start> tiếng hú nào hoang vu <end> => <start> người ấy đến rất nhớ <end>\n",
            "Input: <start> người ấy đến rất nhớ <end> => <start> từ xa biển dạt về <end>\n",
            "Input: <start> từ xa biển dạt về <end> => <start> một ngọn sóng mới vỡ <end>\n",
            "Input: <start> một ngọn sóng mới vỡ <end> => <start> con thuyền nào khuất đi <end>\n",
            "Input: <start> con thuyền nào khuất đi <end> => <start> người ấy đến rất thương <end>\n",
            "Input: <start> người ấy đến rất thương <end> => <start> từ đất đen đứng dậy <end>\n",
            "Input: <start> từ đất đen đứng dậy <end> => <start> một ngọn núi vô cùng <end>\n",
            "Input: <start> một ngọn núi vô cùng <end> => <start> mùa xuân đang chín lại <end>\n",
            "Input: <start> mùa xuân đang chín lại <end> => <start> người ấy đến rất thơ <end>\n",
            "Input: <start> người ấy đến rất thơ <end> => <start> cạn cùng tôi ly nữa <end>\n",
            "Input: <start> cạn cùng tôi ly nữa <end> => <start> trong chuyếnh choáng trong mơ <end>\n",
            "Input: <start> trong chuyếnh choáng trong mơ <end> => <start> tôi gọi hàn mặc tử <end>\n",
            "Input: <start> tôi giật mình đánh rơi <end> => <start> con mèo con xuống giếng <end>\n",
            "Input: <start> con mèo con xuống giếng <end> => <start> cái giếng sâu thăm thẳm <end>\n",
            "Input: <start> cái giếng sâu thăm thẳm <end> => <start> cái giếng sâu kinh khủng <end>\n",
            "Input: <start> cái giếng sâu kinh khủng <end> => <start> cái giếng nước trong veo <end>\n",
            "Input: <start> cái giếng nước trong veo <end> => <start> tôi cúi nhìn sáp mặt <end>\n",
            "Input: <start> tôi cúi nhìn sáp mặt <end> => <start> con mèo con trắng muốt <end>\n",
            "Input: <start> con mèo con trắng muốt <end> => <start> con mèo con của tôi <end>\n",
            "Input: <start> con mèo con của tôi <end> => <start> con mèo kêu meo meo <end>\n",
            "Input: <start> con mèo kêu meo meo <end> => <start> gọ tay tôi quấn quýt <end>\n",
            "Input: <start> gọ tay tôi quấn quýt <end> => <start> gọ chân tôi quấn quýt <end>\n",
            "Input: <start> gọ chân tôi quấn quýt <end> => <start> con mèo lông dựng ngược <end>\n",
            "Input: <start> con mèo lông dựng ngược <end> => <start> con mèo đang nhìn tôi <end>\n",
            "Input: <start> con mèo đang nhìn tôi <end> => <start> mắt trong xanh tận đáy <end>\n",
            "Input: <start> mắt trong xanh tận đáy <end> => <start> nước trong xanh tận đáy <end>\n",
            "Input: <start> nước trong xanh tận đáy <end> => <start> con mèo đang gọi tôi <end>\n",
            "Input: <start> con mèo đang gọi tôi <end> => <start> bằng những bong bóng nước <end>\n",
            "Input: <start> bằng những bong bóng nước <end> => <start> mà tay tôi cứng ngắt <end>\n",
            "Input: <start> mà tay tôi cứng ngắt <end> => <start> mà chân tôi cứng ngắt <end>\n",
            "Input: <start> mà chân tôi cứng ngắt <end> => <start> con mèo đang giãy giụa <end>\n",
            "Input: <start> con mèo đang giãy giụa <end> => <start> con mèo đang nhìn tôi <end>\n",
            "Input: <start> con mèo đang nhìn tôi <end> => <start> còng queo còn mở mắt <end>\n",
            "Input: <start> còng queo còn mở mắt <end> => <start> ngoẹo đầu còn mở mắt <end>\n",
            "Input: <start> ngoẹo đầu còn mở mắt <end> => <start> tôi giật mình hoảng hốt <end>\n",
            "Input: <start> tôi giật mình hoảng hốt <end> => <start> tôi giật mình khủng khiếp <end>\n",
            "Input: <start> tôi giật mình khủng khiếp <end> => <start> chao ôi là giấc mơ <end>\n",
            "Input: <start> ôi con sóng chết khô <end> => <start> vật vờ trong bùn quánh <end>\n",
            "Input: <start> vật vờ trong bùn quánh <end> => <start> ôi những tiếng gọi đò <end>\n",
            "Input: <start> ôi những tiếng gọi đò <end> => <start> đầm đìa trong mưa quạnh <end>\n",
            "Input: <start> áng dương không biết sầu <end> => <start> nằm mãi ở trên cao <end>\n",
            "Input: <start> nằm mãi ở trên cao <end> => <start> tia nắng ấm khắp tràn <end>\n",
            "Input: <start> tia nắng ấm khắp tràn <end> => <start> sao chuyển thành hoàng hôn <end>\n",
            "Input: <start> sao chuyển thành hoàng hôn <end> => <start> em ơi sao tàn nhẫn <end>\n",
            "Input: <start> em ơi sao tàn nhẫn <end> => <start> nỡ xa rời vòng tay <end>\n",
            "Input: <start> nỡ xa rời vòng tay <end> => <start> một thoáng như mây bay <end>\n",
            "Input: <start> một thoáng như mây bay <end> => <start> quên đi cả lối về <end>\n",
            "Input: <start> quên đi cả lối về <end> => <start> đợi em những đêm dài <end>\n",
            "Input: <start> đợi em những đêm dài <end> => <start> không một lời đối đáp <end>\n",
            "Input: <start> không một lời đối đáp <end> => <start> chỉ nghe tiếng gió hát <end>\n",
            "Input: <start> chỉ nghe tiếng gió hát <end> => <start> khát vọng đến đau thương <end>\n",
            "Input: <start> khát vọng đến đau thương <end> => <start> em ơi sao tàn ác <end>\n",
            "Input: <start> em ơi sao tàn ác <end> => <start> ném mắt vào canh thâu <end>\n",
            "Input: <start> ném mắt vào canh thâu <end> => <start> ánh trăng không che nổi <end>\n",
            "Input: <start> ánh trăng không che nổi <end> => <start> giữa mặt thung lũng sâu <end>\n",
            "Input: <start> cây bút gẫy trong tay <end> => <start> cặn mực khô đáy lọ <end>\n",
            "Input: <start> cặn mực khô đáy lọ <end> => <start> ánh điện tắt trong phòng <end>\n",
            "Input: <start> ánh điện tắt trong phòng <end> => <start> anh về từ đường phố <end>\n",
            "Input: <start> anh về từ đường phố <end> => <start> anh về từ trận gió <end>\n",
            "Input: <start> anh về từ trận gió <end> => <start> anh về từ cơn mưa <end>\n",
            "Input: <start> anh về từ cơn mưa <end> => <start> từ những ngày đã qua <end>\n",
            "Input: <start> từ những ngày đã qua <end> => <start> từ những ngày chưa tới <end>\n",
            "Input: <start> từ những ngày chưa tới <end> => <start> từ lòng em nhức nhối <end>\n",
            "Input: <start> từ lòng em nhức nhối <end> => <start> thôi đừng buồn nữa anh <end>\n",
            "Input: <start> thôi đừng buồn nữa anh <end> => <start> tấm rèm cửa màu xanh <end>\n",
            "Input: <start> tấm rèm cửa màu xanh <end> => <start> trang thơ còn viết dở <end>\n",
            "Input: <start> trang thơ còn viết dở <end> => <start> tách nước nóng trên bàn <end>\n",
            "Input: <start> tách nước nóng trên bàn <end> => <start> và lòng em thương nhớ <end>\n",
            "Input: <start> và lòng em thương nhớ <end> => <start> ở ngoài kia trời gió <end>\n",
            "Input: <start> ở ngoài kia trời gió <end> => <start> ở ngoài kia trời mưa <end>\n",
            "Input: <start> ở ngoài kia trời mưa <end> => <start> cây bàng đêm ngẩn ngơ <end>\n",
            "Input: <start> cây bàng đêm ngẩn ngơ <end> => <start> nước qua đường chảy xiết <end>\n",
            "Input: <start> nước qua đường chảy xiết <end> => <start> tóc anh thì ướt đẫm <end>\n",
            "Input: <start> tóc anh thì ướt đẫm <end> => <start> lòng anh thì cô đơn <end>\n",
            "Input: <start> lòng anh thì cô đơn <end> => <start> anh cần chi nơi em <end>\n",
            "Input: <start> anh cần chi nơi em <end> => <start> sao mà anh chẳng nói <end>\n",
            "Input: <start> sao mà anh chẳng nói <end> => <start> anh con đường xa ngái <end>\n",
            "Input: <start> anh con đường xa ngái <end> => <start> anh bức vẽ không màu <end>\n",
            "Input: <start> anh bức vẽ không màu <end> => <start> anh nghìn nỗi lo âu <end>\n",
            "Input: <start> anh nghìn nỗi lo âu <end> => <start> anh dòng thơ nổi gió <end>\n",
            "Input: <start> anh dòng thơ nổi gió <end> => <start> mà em người đời thường <end>\n",
            "Input: <start> mà em người đời thường <end> => <start> biết là anh có ở <end>\n",
            "Input: <start> không có anh để già <end> => <start> làm sao em được trẻ <end>\n",
            "Input: <start> làm sao em được trẻ <end> => <start> muốn nếm được nồng nàn <end>\n",
            "Input: <start> muốn nếm được nồng nàn <end> => <start> hãy yêu nhau này nhé <end>\n",
            "Input: <start> hãy yêu nhau này nhé <end> => <start> anh thấy anh đã già <end>\n",
            "Input: <start> anh thấy anh đã già <end> => <start> mắt chứa em trẻ mãi <end>\n",
            "Input: <start> mắt chứa em trẻ mãi <end> => <start> hôm qua gió quá đà <end>\n",
            "Input: <start> hôm qua gió quá đà <end> => <start> xô sóng triều ngân nga <end>\n",
            "Input: <start> xô sóng triều ngân nga <end> => <start> anh biết mình xưa cũ <end>\n",
            "Input: <start> anh biết mình xưa cũ <end> => <start> xa lắc như tinh cầu <end>\n",
            "Input: <start> xa lắc như tinh cầu <end> => <start> một mai và bất chợt <end>\n",
            "Input: <start> một mai và bất chợt <end> => <start> rơi vào em ngây thơ <end>\n",
            "Input: <start> rơi vào em ngây thơ <end> => <start> anh không già được nữa <end>\n",
            "Input: <start> anh không già được nữa <end> => <start> em vẫn trẻ bên đời <end>\n",
            "Input: <start> em vẫn trẻ bên đời <end> => <start> trăm năm vòng tay ấm <end>\n",
            "Input: <start> trăm năm vòng tay ấm <end> => <start> vạn lý bước tình đưa <end>\n",
            "Input: <start> vạn lý bước tình đưa <end> => <start> đếm được tuổi anh già <end>\n",
            "Input: <start> đếm được tuổi anh già <end> => <start> biết tuổi em thác đổ <end>\n",
            "Input: <start> biết tuổi em thác đổ <end> => <start> anh trượt xuống đời em <end>\n",
            "Input: <start> anh trượt xuống đời em <end> => <start> đất trời bừng giác ngộ <end>\n",
            "Input: <start> đất trời bừng giác ngộ <end> => <start> đất hiến dâng tuổi trẻ <end>\n",
            "Input: <start> đất hiến dâng tuổi trẻ <end> => <start> trời buông thả tuổi già <end>\n",
            "Input: <start> trời buông thả tuổi già <end> => <start> ôi mùa xuân bất tận <end>\n",
            "Input: <start> ôi mùa xuân bất tận <end> => <start> hương sắc bừng trong ta <end>\n",
            "Input: <start> buồn thì buồn thiệt đó <end> => <start> em à có biết không <end>\n",
            "Input: <start> em à có biết không <end> => <start> vòm xanh chim dấu mỏ <end>\n",
            "Input: <start> vòm xanh chim dấu mỏ <end> => <start> tiếng hót chờ rêu phong <end>\n",
            "Input: <start> tiếng hót chờ rêu phong <end> => <start> vâng phiến buồn còn đó <end>\n",
            "Input: <start> vâng phiến buồn còn đó <end> => <start> em nào biết phải không <end>\n",
            "Input: <start> em nào biết phải không <end> => <start> thản nhiên nhiều lá đổ <end>\n",
            "Input: <start> thản nhiên nhiều lá đổ <end> => <start> héo úa chừng mênh mông <end>\n",
            "Input: <start> héo úa chừng mênh mông <end> => <start> ừ nỗi buồn vậy đó <end>\n",
            "Input: <start> ừ nỗi buồn vậy đó <end> => <start> em đừng vội bâng khuâng <end>\n",
            "Input: <start> em đừng vội bâng khuâng <end> => <start> vết trầm kha tim đỏ <end>"
          ]
        }
      ]
    },
    {
      "cell_type": "code",
      "source": [
        "tokenizer = Tokenizer(num_words=VOCAB_SIZE, filters='', oov_token=\"<OOV>\")\n",
        "tokenizer.fit_on_texts(corpus)\n",
        "\n",
        "VOCAB_SIZE = len(tokenizer.word_index) + 1"
      ],
      "metadata": {
        "id": "IL4WgUmxYNHE",
        "colab": {
          "base_uri": "https://localhost:8080/"
        },
        "outputId": "b5523a33-eca6-4d99-9a59-f6f0d2c5d3ec"
      },
      "execution_count": null,
      "outputs": [
        {
          "output_type": "stream",
          "name": "stdout",
          "text": [
            "\n",
            "Input: <start> vết trầm kha tim đỏ <end> => <start> rên siết khuya thì thầm <end>\n",
            "Input: <start> rên siết khuya thì thầm <end> => <start> biết buồn là mãi đó <end>\n",
            "Input: <start> biết buồn là mãi đó <end> => <start> em đừng phai má hồng <end>\n",
            "Input: <start> em đừng phai má hồng <end> => <start> một mối tình nho nhỏ <end>\n",
            "Input: <start> một mối tình nho nhỏ <end> => <start> anh bốn mùa lập đông <end>\n",
            "Input: <start> ai bảo anh bù nhìn <end> => <start> là đồ vô tích sự <end>\n",
            "Input: <start> là đồ vô tích sự <end> => <start> em không tin không tin <end>\n",
            "Input: <start> em không tin không tin <end> => <start> còn thương anh nữa chứ <end>\n",
            "Input: <start> còn thương anh nữa chứ <end> => <start> cánh đồng dù mưa nắng <end>\n",
            "Input: <start> cánh đồng dù mưa nắng <end> => <start> ngày đêm anh đứng canh <end>\n",
            "Input: <start> ngày đêm anh đứng canh <end> => <start> lúa an tâm vào hạt <end>\n",
            "Input: <start> lúa an tâm vào hạt <end> => <start> không sợ chim chuột càn <end>\n",
            "Input: <start> không sợ chim chuột càn <end> => <start> anh bù nhìn vui tính <end>\n",
            "Input: <start> anh bù nhìn vui tính <end> => <start> cái mặt như chú hề <end>\n",
            "Input: <start> cái mặt như chú hề <end> => <start> vừa lom lem đen trắng <end>\n",
            "Input: <start> vừa lom lem đen trắng <end> => <start> thoạt nhìn ai cũng ghê <end>\n",
            "Input: <start> thoạt nhìn ai cũng ghê <end> => <start> áo quần tuy rách rưới <end>\n",
            "Input: <start> áo quần tuy rách rưới <end> => <start> nhưng anh chẳng buồn đâu <end>\n",
            "Input: <start> nhưng anh chẳng buồn đâu <end> => <start> mỗi khi bạn gió tới <end>\n",
            "Input: <start> mỗi khi bạn gió tới <end> => <start> đôi tay mềm phất cao <end>\n",
            "Input: <start> đôi tay mềm phất cao <end> => <start> có đàn chim háu đói <end>\n",
            "Input: <start> có đàn chim háu đói <end> => <start> sà cánh xuống đồng vàng <end>\n",
            "Input: <start> sà cánh xuống đồng vàng <end> => <start> thèm thuồng toan mổ vụng <end>\n",
            "Input: <start> thèm thuồng toan mổ vụng <end> => <start> thấy anh sợ tím gan <end>\n",
            "Input: <start> thấy anh sợ tím gan <end> => <start> lúa vui rì rào mãi <end>\n",
            "Input: <start> lúa vui rì rào mãi <end> => <start> toả hương ngợp cánh đồng <end>\n",
            "Input: <start> toả hương ngợp cánh đồng <end> => <start> anh bù nhìn khoai khoái <end>\n",
            "Input: <start> anh bù nhìn khoai khoái <end> => <start> gật gật đầu oai không <end>\n",
            "Input: <start> em chỉ cần có anh <end> => <start> khi niềm tin đang cạn <end>\n",
            "Input: <start> khi niềm tin đang cạn <end> => <start> chiều đông về chạng vạng <end>\n",
            "Input: <start> chiều đông về chạng vạng <end> => <start> lúc giá buốt tâm hồn <end>\n",
            "Input: <start> lúc giá buốt tâm hồn <end> => <start> em chỉ cần có anh <end>\n",
            "Input: <start> em chỉ cần có anh <end> => <start> một bờ vai em tựa <end>\n",
            "Input: <start> một bờ vai em tựa <end> => <start> bàn tay gieo nhung nhớ <end>\n",
            "Input: <start> bàn tay gieo nhung nhớ <end> => <start> vào trong bến bờ yêu <end>\n",
            "Input: <start> vào trong bến bờ yêu <end> => <start> em chỉ cần có anh <end>\n",
            "Input: <start> em chỉ cần có anh <end> => <start> vòng tay ôm mỗi chiều <end>\n",
            "Input: <start> vòng tay ôm mỗi chiều <end> => <start> truyền sang em ngọn lửa <end>\n",
            "Input: <start> truyền sang em ngọn lửa <end> => <start> tha thiết biết bao nhiêu <end>\n",
            "Input: <start> tha thiết biết bao nhiêu <end> => <start> em chỉ cần có anh <end>\n",
            "Input: <start> em chỉ cần có anh <end> => <start> nụ hôn lên mái tóc <end>\n",
            "Input: <start> nụ hôn lên mái tóc <end> => <start> mỗi buổi sáng em đi <end>\n",
            "Input: <start> mỗi buổi sáng em đi <end> => <start> vào cuộc đời khó nhọc <end>\n",
            "Input: <start> vào cuộc đời khó nhọc <end> => <start> em chỉ cần có anh <end>\n",
            "Input: <start> em chỉ cần có anh <end> => <start> một người trai bình dị <end>\n",
            "Input: <start> một người trai bình dị <end> => <start> nhưng phải giàu ý chí <end>\n",
            "Input: <start> nhưng phải giàu ý chí <end> => <start> tha thiết yêu mọi người <end>\n",
            "Input: <start> tha thiết yêu mọi người <end> => <start> em chỉ cần có anh <end>\n",
            "Input: <start> em chỉ cần có anh <end> => <start> sống chung căn nhà nhỏ <end>\n",
            "Input: <start> sống chung căn nhà nhỏ <end> => <start> lời yêu anh chưa ngỏ <end>\n",
            "Input: <start> lời yêu anh chưa ngỏ <end> => <start> để em đợi em chờ <end>\n",
            "Input: <start> để em đợi em chờ <end> => <start> em chỉ cần có anh <end>\n",
            "Input: <start> mỗi đêm một gói thuốc <end> => <start> hút nhiều nứt cả môi <end>\n",
            "Input: <start> hút nhiều nứt cả môi <end> => <start> nỗi buồn không nói được <end>\n",
            "Input: <start> nỗi buồn không nói được <end> => <start> nỗi buồn ăn vào tôi <end>\n",
            "Input: <start> nỗi buồn ăn vào tôi <end> => <start> trời mùa đông rừng núi <end>\n",
            "Input: <start> trời mùa đông rừng núi <end> => <start> đời mùa đông vô cùng <end>\n",
            "Input: <start> đời mùa đông vô cùng <end> => <start> bánh xe nào tung bụi <end>\n",
            "Input: <start> bánh xe nào tung bụi <end> => <start> nhịp chim nào đã ngưng <end>\n",
            "Input: <start> nhịp chim nào đã ngưng <end> => <start> anh cho em mùa xuân <end>\n",
            "Input: <start> anh cho em mùa xuân <end> => <start> giọng ca buồn quá sức <end>\n",
            "Input: <start> giọng ca buồn quá sức <end> => <start> cô gái đầu cúi gục <end>\n",
            "Input: <start> cô gái đầu cúi gục <end> => <start> anh cho em mùa xuân <end>\n",
            "Input: <start> anh cho em mùa xuân <end> => <start> mớ tóc xanh đã bạc <end>\n",
            "Input: <start> mớ tóc xanh đã bạc <end> => <start> mớ môi hồng đã phai <end>\n",
            "Input: <start> mớ môi hồng đã phai <end> => <start> anh cho em gió lạc <end>\n",
            "Input: <start> anh cho em gió lạc <end> => <start> anh cho em mưa dài <end>\n",
            "Input: <start> anh cho em mưa dài <end> => <start> trời mùa đông rừng núi <end>\n",
            "Input: <start> trời mùa đông rừng núi <end> => <start> đời mùa đông vô cùng <end>\n",
            "Input: <start> đời mùa đông vô cùng <end> => <start> hút thuốc trong bóng tối <end>\n",
            "Input: <start> hút thuốc trong bóng tối <end> => <start> khói có bay lên không <end>\n",
            "Input: <start> mùa thu còn mảnh dẻ <end> => <start> khép minh trong lá gầy <end>\n",
            "Input: <start> khép minh trong lá gầy <end> => <start> có phải thu thật đấy <end>\n",
            "Input: <start> có phải thu thật đấy <end> => <start> em ngơ ngẩn nhìn cây <end>\n",
            "Input: <start> em ngơ ngẩn nhìn cây <end> => <start> tình yêu đến trong tay <end>\n",
            "Input: <start> tình yêu đến trong tay <end> => <start> hồn nhiên như ngọn gió <end>\n",
            "Input: <start> hồn nhiên như ngọn gió <end> => <start> em nào uống rượu say <end>\n",
            "Input: <start> em nào uống rượu say <end> => <start> sao giờ còn bỡ ngỡ <end>\n",
            "Input: <start> sao giờ còn bỡ ngỡ <end> => <start> thu đến như lá cỏ <end>\n",
            "Input: <start> thu đến như lá cỏ <end> => <start> thấm mát đôi bàn tay <end>\n",
            "Input: <start> thấm mát đôi bàn tay <end> => <start> có tiếng ai nho nhỏ <end>\n",
            "Input: <start> có tiếng ai nho nhỏ <end> => <start> hát trong vườn chiều nay <end>\n",
            "Input: <start> hát trong vườn chiều nay <end> => <start> như bên mình có ai <end>\n",
            "Input: <start> như bên mình có ai <end> => <start> em đi giữa đường phố <end>\n",
            "Input: <start> em đi giữa đường phố <end> => <start> vài chiếc lá me khô <end>\n",
            "Input: <start> vài chiếc lá me khô <end> => <start> hôn trên bàn tay nhỏ <end>\n",
            "Input: <start> hôn trên bàn tay nhỏ <end> => <start> thành phố như chú bé <end>\n",
            "Input: <start> thành phố như chú bé <end> => <start> trong chiều thu dịu dàng <end>\n",
            "Input: <start> trong chiều thu dịu dàng <end> => <start> em đôi chân chim nhỏ <end>\n",
            "Input: <start> em đôi chân chim nhỏ <end> => <start> giữa lòng anh thênh thang <end>\n",
            "Input: <start> giữa lòng anh thênh thang <end> => <start> không gian nắng bỗng vàng <end>\n",
            "Input: <start> không gian nắng bỗng vàng <end> => <start> ngàn sao bay trong mắt <end>\n",
            "Input: <start> ngàn sao bay trong mắt <end> => <start> đâu đó chim hót vang <end>\n",
            "Input: <start> đâu đó chim hót vang <end> => <start> chiều mở toang lồng ngực <end>\n",
            "Input: <start> chiều mở toang lồng ngực <end> => <start> trên mây một chú thỏ <end>\n",
            "Input: <start> trên mây một chú thỏ <end> => <start> nghêng đầu ngó vu vơ <end>\n",
            "Input: <start> nghêng đầu ngó vu vơ <end> => <start> anh như giòng chữ nhớ <end>\n",
            "Input: <start> anh như giòng chữ nhớ <end> => <start> mở đầu một trang thơ <end>\n",
            "Input: <start> mở đầu một trang thơ <end> => <start> anh có là mùa thu <end>\n",
            "Input: <start> anh có là mùa thu <end> => <start> cho em giấc ngủ hiền <end>\n",
            "Input: <start> cho em giấc ngủ hiền <end> => <start> trong vòng tay đan kín <end>\n",
            "Input: <start> trong vòng tay đan kín <end> => <start> xoả dòng tóc bình yên <end>\n",
            "Input: <start> một mùa thu ẩm ướt <end> => <start> những ngày mưa áp thấp <end>\n",
            "Input: <start> những ngày mưa áp thấp <end> => <start> trăng cóng trên đỉnh trời <end>\n",
            "Input: <start> trăng cóng trên đỉnh trời <end> => <start> đừng trách em nữa anh <end>\n",
            "Input: <start> đừng trách em nữa anh <end> => <start> em thấy mình lạnh toát <end>\n",
            "Input: <start> em thấy mình lạnh toát <end> => <start> đêm ngày vỡ trên môi <end>\n",
            "Input: <start> đêm ngày vỡ trên môi <end> => <start> sao mãi mình chưa gặp <end>\n",
            "Input: <start> sao mãi mình chưa gặp <end> => <start> thôi thì là số phận <end>\n",
            "Input: <start> thôi thì là số phận <end> => <start> thôi thì là cơ duyên <end>\n",
            "Input: <start> thôi thì là cơ duyên <end> => <start> vì sao em yêu anh <end>\n",
            "Input: <start> vì sao em yêu anh <end> => <start> vì đâu em một mình <end>\n",
            "Input: <start> vì đâu em một mình <end> => <start>  đêm mùa đông năm trước <end>\n",
            "Input: <start>  đêm mùa đông năm trước <end> => <start> em đã đi tìm anh <end>\n",
            "Input: <start> em đã đi tìm anh <end> => <start> có phải tại mùa đông <end>\n",
            "Input: <start> có phải tại mùa đông <end> => <start> hay anh  là giá lạnh <end>\n",
            "Input: <start> hay anh  là giá lạnh <end> => <start> lại sắp đông ập đến <end>\n",
            "Input: <start> lại sắp đông ập đến <end> => <start> hay là đông đã về <end>\n",
            "Input: <start> hay là đông đã về <end> => <start> em hỏi rồi em đi <end>\n",
            "Input: <start> em hỏi rồi em đi <end> => <start> đường chỉ tay chồng chéo <end>\n",
            "Input: <start> đường chỉ tay chồng chéo <end> => <start> số phận  một trận đồ <end>\n",
            "Input: <start> số phận  một trận đồ <end> => <start> khói bụi mắt đau rát <end>\n",
            "Input: <start> khói bụi mắt đau rát <end> => <start> bời bời lá gió rụng <end>\n",
            "Input: <start> bời bời lá gió rụng <end> => <start> đường đi trong ánh nước <end>\n",
            "Input: <start> đường đi trong ánh nước <end> => <start> nếu anh còn yêu em <end>\n",
            "Input: <start> anh còn nhớ mùa đông <end> => <start> hàng cây mong chờ nắng <end>\n",
            "Input: <start> hàng cây mong chờ nắng <end> => <start> ngàn lá nằm im lặng <end>\n",
            "Input: <start> ngàn lá nằm im lặng <end> => <start> run rẩy trên cành cao <end>\n",
            "Input: <start> run rẩy trên cành cao <end> => <start> anh còn nhớ mùa đông <end>\n",
            "Input: <start> anh còn nhớ mùa đông <end> => <start> thấy từng ngày thật ngắn <end>\n",
            "Input: <start> thấy từng ngày thật ngắn <end> => <start> guốc khua trên phố vắng <end>\n",
            "Input: <start> guốc khua trên phố vắng <end> => <start> âm thầm ngàn mưa bay <end>\n",
            "Input: <start> âm thầm ngàn mưa bay <end> => <start> nhặt hơi ấm bàn tay <end>\n",
            "Input: <start> nhặt hơi ấm bàn tay <end> => <start> qua từng hơi gió thổi <end>\n",
            "Input: <start> qua từng hơi gió thổi <end> => <start> sao gió hoài đắm đuối <end>\n",
            "Input: <start> sao gió hoài đắm đuối <end> => <start> gọi mưa về gió ơi <end>\n",
            "Input: <start> gọi mưa về gió ơi <end> => <start> bao thương nhớ bồi hồi <end>\n",
            "Input: <start> bao thương nhớ bồi hồi <end> => <start> khi ngày xuân bỏ phố <end>\n",
            "Input: <start> khi ngày xuân bỏ phố <end> => <start> khi ngày xuân đã lỡ <end>\n",
            "Input: <start> khi ngày xuân đã lỡ <end> => <start> lời hẹn đếm ngàn sao <end>\n",
            "Input: <start> lời hẹn đếm ngàn sao <end> => <start> lời hẹn ta bên nhau <end>\n",
            "Input: <start> lời hẹn ta bên nhau <end> => <start> cung đàn ngân nga phím <end>\n",
            "Input: <start> cung đàn ngân nga phím <end> => <start> hoàng hôn buông mầu tím <end>\n",
            "Input: <start> hoàng hôn buông mầu tím <end> => <start> mắt trong veo mơ đầu <end>\n",
            "Input: <start> mắt trong veo mơ đầu <end> => <start> lời hẹn rồi mai sau <end>\n",
            "Input: <start> phố cuộn mình theo nắng <end> => <start> gió vô tư xoãi mình <end>\n",
            "Input: <start> gió vô tư xoãi mình <end> => <start> nhớ ngọt ngào rải quanh <end>\n",
            "Input: <start> nhớ ngọt ngào rải quanh <end> => <start> vô tình khoe tình lộng <end>\n",
            "Input: <start> vô tình khoe tình lộng <end> => <start> đêm cuộn mình trở trăn <end>\n",
            "Input: <start> đêm cuộn mình trở trăn <end> => <start> những cời than bùng nốt <end>\n",
            "Input: <start> những cời than bùng nốt <end> => <start> thắp con đường ngày hạ <end>\n",
            "Input: <start> thắp con đường ngày hạ <end> => <start> vô tình nhặt mong manh <end>\n",
            "Input: <start> vô tình nhặt mong manh <end> => <start> em cuộn mình trong chăn <end>\n",
            "Input: <start> em cuộn mình trong chăn <end> => <start> thong dong tha nỗi nhớ <end>\n",
            "Input: <start> thong dong tha nỗi nhớ <end> => <start> viên to chồng viên nhỏ <end>\n",
            "Input: <start> viên to chồng viên nhỏ <end> => <start> anh mãi còn nợ em <end>\n",
            "Input: <start> tuổi anh còn rất trẻ <end> => <start> nhưng anh rất tài hoa <end>\n",
            "Input: <start> nhưng anh rất tài hoa <end> => <start> anh vừa là nhạc sĩ <end>\n",
            "Input: <start> anh vừa là nhạc sĩ <end> => <start> cũng vừa là danh ca <end>\n",
            "Input: <start> cũng vừa là danh ca <end> => <start> giọng anh rất ngọt ngào <end>\n",
            "Input: <start> giọng anh rất ngọt ngào <end> => <start> ngân nga như tiếng gió <end>\n",
            "Input: <start> ngân nga như tiếng gió <end> => <start> bộ com lê màu nâu <end>\n",
            "Input: <start> bộ com lê màu nâu <end> => <start> khoác trên mình thon nhỏ <end>\n",
            "Input: <start> khoác trên mình thon nhỏ <end> => <start> dù trời mưa hay nắng <end>\n",
            "Input: <start> dù trời mưa hay nắng <end> => <start> anh vẫn luôn yêu đời <end>\n",
            "Input: <start> anh vẫn luôn yêu đời <end> => <start> chiếc vĩ cầm nhỏ nhắn <end>\n",
            "Input: <start> chiếc vĩ cầm nhỏ nhắn <end> => <start> theo anh đi khắp nơi <end>\n",
            "Input: <start> theo anh đi khắp nơi <end> => <start> vì cuộc đời đáng yêu <end>\n",
            "Input: <start> vì cuộc đời đáng yêu <end> => <start> anh càng say ca hát <end>\n",
            "Input: <start> anh càng say ca hát <end> => <start> và mong đem thật nhiều <end>\n",
            "Input: <start> và mong đem thật nhiều <end> => <start> niềm vui đi rộng khắp <end>\n",
            "Input: <start> đời anh hăm hai tuổi <end> => <start> chỉ còn cục than đen <end>\n",
            "Input: <start> chỉ còn cục than đen <end> => <start> chúng lừa anh chúng nói <end>\n",
            "Input: <start> chúng lừa anh chúng nói <end> => <start> vào nam khối ruộng tiền <end>\n",
            "Input: <start> vào nam khối ruộng tiền <end> => <start> bây giờ nông nỗi ấy <end>\n",
            "Input: <start> bây giờ nông nỗi ấy <end> => <start> chúng đem bán thân anh <end>\n",
            "Input: <start> chúng đem bán thân anh <end> => <start> cho đồn điền đất đỏ <end>\n",
            "Input: <start> cho đồn điền đất đỏ <end> => <start> thằng chủ mỹ hành hình <end>\n",
            "Input: <start> thằng chủ mỹ hành hình <end> => <start> trại cái sắn tập trung <end>\n",
            "Input: <start> trại cái sắn tập trung <end> => <start> trại nam hoà địa ngục <end>\n",
            "Input: <start> trại nam hoà địa ngục <end> => <start> mặt người còn cái khung <end>\n",
            "Input: <start> mặt người còn cái khung <end> => <start> thân người thành củi mục <end>\n",
            "Input: <start> thân người thành củi mục <end> => <start> trại vách xiêu mái đổ <end>\n",
            "Input: <start> trại vách xiêu mái đổ <end> => <start> bụng lép với chân phù <end>\n",
            "Input: <start> bụng lép với chân phù <end> => <start> mẹ chết con đang bú <end>\n",
            "Input: <start> mẹ chết con đang bú <end> => <start> con chết giữa lời ru <end>\n",
            "Input: <start> con chết giữa lời ru <end> => <start> anh mới hăm hai tuổi <end>\n",
            "Input: <start> anh mới hăm hai tuổi <end> => <start> cùng tuổi em trai tôi <end>\n",
            "Input: <start> cùng tuổi em trai tôi <end> => <start> một nước hai xã hội <end>\n",
            "Input: <start> một nước hai xã hội <end> => <start> khác nhau hai cuộc đời <end>\n",
            "Input: <start> khác nhau hai cuộc đời <end> => <start> anh cùng đường tuyệt vọng <end>\n",
            "Input: <start> anh cùng đường tuyệt vọng <end> => <start> tẩm xăng tự đốt mình <end>\n",
            "Input: <start> tẩm xăng tự đốt mình <end> => <start> anh chết rồi lửa nóng <end>\n",
            "Input: <start> anh chết rồi lửa nóng <end> => <start> khôn tan khối oan tình <end>\n",
            "Input: <start> khôn tan khối oan tình <end> => <start> chúng nó rồi trả nợ <end>\n",
            "Input: <start> chúng nó rồi trả nợ <end> => <start> lửa sẽ cháy bùng lên <end>\n",
            "Input: <start> lửa sẽ cháy bùng lên <end> => <start> đốt tiệt loài man rợ <end>\n",
            "Input: <start> đốt tiệt loài man rợ <end> => <start> oan anh chúng phải đền <end>\n",
            "Input: <start> oan anh chúng phải đền <end> => <start> đời anh hăm hai tuổi <end>\n",
            "Input: <start> đời anh hăm hai tuổi <end> => <start> chỉ còn cục than đen <end>\n",
            "Input: <start> chỉ còn cục than đen <end> => <start> chết rồi còn tức tối <end>\n",
            "Input: <start> chết rồi còn tức tối <end> => <start> miệng than vẫn rủa nguyền <end>\n",
            "Input: <start> anh đi công tác về <end> => <start> em chạy ào ra đón <end>\n",
            "Input: <start> em chạy ào ra đón <end> => <start> cả nhà cùng ra đón <end>\n",
            "Input: <start> cả nhà cùng ra đón <end> => <start> hàng xóm chào yêu thương <end>\n",
            "Input: <start> hàng xóm chào yêu thương <end> => <start> anh gầy hơn đen hơn <end>\n",
            "Input: <start> anh gầy hơn đen hơn <end> => <start> em đỡ ba lô năng <end>\n",
            "Input: <start> em đỡ ba lô năng <end> => <start> cởi phanh áo ngực trần <end>\n",
            "Input: <start> cởi phanh áo ngực trần <end> => <start> nhìn từ đầu đến chân <end>\n",
            "Input: <start> nhìn từ đầu đến chân <end> => <start> anh gầy hơn một chút <end>\n",
            "Input: <start> anh gầy hơn một chút <end> => <start> anh đen hơn một chút <end>\n",
            "Input: <start> anh đen hơn một chút <end> => <start> đẻ anh ngồi xuống giướng <end>\n",
            "Input: <start> đẻ anh ngồi xuống giướng <end> => <start> em pha nước trà nóng <end>\n",
            "Input: <start> em pha nước trà nóng <end> => <start> em bắc bếp làm cơm <end>\n",
            "Input: <start> em bắc bếp làm cơm <end> => <start> tim dâng đầy cảm xúc <end>\n",
            "Input: <start> tim dâng đầy cảm xúc <end> => <start> anh gầy hơn đen hơn <end>\n",
            "Input: <start> anh gầy hơn đen hơn <end> => <start> hang xóm vây quanh anh <end>\n",
            "Input: <start> hang xóm vây quanh anh <end> => <start> chuyện khu ba khu bốn <end>\n",
            "Input: <start> chuyện khu ba khu bốn <end> => <start> mặt anh bụi còn lấm <end>\n",
            "Input: <start> mặt anh bụi còn lấm <end> => <start> lòng em nhìn yêu thương <end>\n",
            "Input: <start> lòng em nhìn yêu thương <end> => <start> anh gầy hơn đen hơn <end>\n",
            "Input: <start> anh gầy hơn đen hơn <end> => <start> chỉ vài ngày bên em <end>\n",
            "Input: <start> chỉ vài ngày bên em <end> => <start> mặt anh sẽ đầy đặn <end>\n",
            "Input: <start> mặt anh sẽ đầy đặn <end> => <start> chỉ vài ngày bên em <end>\n",
            "Input: <start> chỉ vài ngày bên em <end> => <start> nước da anh sẽ thắm <end>\n",
            "Input: <start> nước da anh sẽ thắm <end> => <start> rồi anh lại lên đường <end>\n",
            "Input: <start> rồi anh lại lên đường <end> => <start> anh lại đi xa hơn <end>\n",
            "Input: <start> anh lại đi xa hơn <end> => <start> dặm đàng soi sáng mắt <end>\n",
            "Input: <start> dặm đàng soi sáng mắt <end> => <start> sáng mắt dâng cuộc đời <end>\n",
            "Input: <start> sáng mắt dâng cuộc đời <end> => <start> em yêu anh hơn hết <end>\n",
            "Input: <start> em yêu anh hơn hết <end> => <start> là đôi mắt sáng ngời <end>\n",
            "Input: <start> anh đi qua đời em <end> => <start> như cơn mưa mùa hè <end>\n",
            "Input: <start> như cơn mưa mùa hè <end> => <start> tắm mưa qua lần áo <end>\n",
            "Input: <start> tắm mưa qua lần áo <end> => <start> nón nghiêng hờ không che <end>\n",
            "Input: <start> nón nghiêng hờ không che <end> => <start> anh đi qua đời em <end>\n",
            "Input: <start> anh đi qua đời em <end> => <start> như gió mát mùa hè <end>\n",
            "Input: <start> như gió mát mùa hè <end> => <start> gió ơi đừng bay nữa <end>\n",
            "Input: <start> gió ơi đừng bay nữa <end> => <start> mát một bề cho em <end>\n",
            "Input: <start> mát một bề cho em <end> => <start> anh đi qua đời em <end>\n",
            "Input: <start> anh đi qua đời em <end> => <start> như dông bão mùa hè <end>\n",
            "Input: <start> như dông bão mùa hè <end> => <start> cây vườn em vỗ về <end>\n",
            "Input: <start> cây vườn em vỗ về <end> => <start> anh đi qua đời em <end>\n",
            "Input: <start> anh đi qua đời em <end> => <start> như giấc mơ mùa hè <end>\n",
            "Input: <start> như giấc mơ mùa hè <end> => <start> trời nghiêng che nắng lửa <end>\n",
            "Input: <start> trời nghiêng che nắng lửa <end> => <start> giấc mơ xanh gọi về <end>\n",
            "Input: <start> anh nằm ngoài sự thực <end> => <start> em ngồi trong chiêm bao <end>\n",
            "Input: <start> em ngồi trong chiêm bao <end> => <start> cách xa nhau biết mấy <end>\n",
            "Input: <start> cách xa nhau biết mấy <end> => <start> nhớ thương quá thì sao  <end>\n",
            "Input: <start> nhớ thương quá thì sao  <end> => <start> anh nuốt phứt hàng chữ <end>\n",
            "Input: <start> anh nuốt phứt hàng chữ <end> => <start> anh cắn vỡ lời thơ <end>\n",
            "Input: <start> anh cắn vỡ lời thơ <end> => <start> anh cắn cắn cắn cắn <end>\n",
            "Input: <start> anh cắn cắn cắn cắn <end> => <start> hơi thở đứt làm tư <end>\n"
          ]
        }
      ]
    },
    {
      "cell_type": "code",
      "source": [
        "def prepare_output_sequences(y_sequences):\n",
        "    y_inputs = pad_sequences([y_seq[:-1] for y_seq in y_sequences], maxlen=MAX_SEQ_LEN, truncating='pre', padding='post')\n",
        "    y_outputs = pad_sequences([y_seq[1:] for y_seq in y_sequences], maxlen=MAX_SEQ_LEN, truncating='pre', padding='post')\n",
        "\n",
        "    return y_inputs, y_outputs\n",
        "\n",
        "X_sequences = tokenizer.texts_to_sequences(X)\n",
        "X_padded_sequences = pad_sequences(X_sequences, maxlen=MAX_SEQ_LEN, truncating='pre', padding='post')\n",
        "\n",
        "y_sequences = tokenizer.texts_to_sequences(y)\n",
        "y_inputs, y_outputs = prepare_output_sequences(y_sequences)"
      ],
      "metadata": {
        "id": "wTRt_zk3Ok-n"
      },
      "execution_count": null,
      "outputs": []
    },
    {
      "cell_type": "code",
      "source": [
        "n_samples = len(X_padded_sequences)\n",
        "print(n_samples)"
      ],
      "metadata": {
        "colab": {
          "base_uri": "https://localhost:8080/"
        },
        "id": "S_cGDrsHUHM4",
        "outputId": "7794825a-b542-45ef-da96-58cf4e5f6bf5"
      },
      "execution_count": null,
      "outputs": [
        {
          "output_type": "stream",
          "name": "stdout",
          "text": [
            "1028\n"
          ]
        }
      ]
    },
    {
      "cell_type": "code",
      "source": [
        "train_len = int(n_samples * 0.7)\n",
        "val_len = int(n_samples * 0.2)\n",
        "test_len = n_samples - train_len - val_len\n",
        "\n",
        "# Shuffle\n",
        "np.random.seed(1)\n",
        "idxs = np.arange(n_samples)\n",
        "idxs = np.random.permutation(idxs)\n",
        "\n",
        "X_padded_sequences = X_padded_sequences[idxs]\n",
        "y_inputs = y_inputs[idxs]\n",
        "y_outputs = y_outputs[idxs]\n",
        "\n",
        "# Split the data into train, validation, and test sets\n",
        "X_train_seq, y_train_input, y_train_output = X_padded_sequences[:train_len], y_inputs[:train_len], y_outputs[:train_len]\n",
        "X_val_seq, y_val_input, y_val_output = X_padded_sequences[train_len:train_len+val_len], y_inputs[train_len:train_len+val_len], y_outputs[train_len:train_len+val_len]\n",
        "X_test_seq, y_test_input, y_test_output = X_padded_sequences[train_len+val_len:], y_inputs[train_len+val_len:], y_outputs[train_len+val_len:]"
      ],
      "metadata": {
        "id": "xGmWikjMS1ah"
      },
      "execution_count": null,
      "outputs": []
    },
    {
      "cell_type": "code",
      "source": [
        "train_ds = tf.data.Dataset.from_tensor_slices(((X_train_seq, y_train_input), y_train_output)).batch(BATCH_SIZE)\n",
        "val_ds = tf.data.Dataset.from_tensor_slices(((X_val_seq, y_val_input), y_val_output)).batch(BATCH_SIZE)\n",
        "test_ds = tf.data.Dataset.from_tensor_slices(((X_test_seq, y_test_input), y_test_output)).batch(BATCH_SIZE)\n",
        "\n",
        "AUTOTUNE = tf.data.AUTOTUNE\n",
        "\n",
        "train_ds = train_ds.cache().prefetch(buffer_size=AUTOTUNE)\n",
        "val_ds = val_ds.cache().prefetch(buffer_size=AUTOTUNE)\n",
        "test_ds = test_ds.cache().prefetch(buffer_size=AUTOTUNE)"
      ],
      "metadata": {
        "id": "onM2jAEBte9v"
      },
      "execution_count": null,
      "outputs": []
    },
    {
      "cell_type": "markdown",
      "source": [
        "## **3. Xây dựng mô hình**"
      ],
      "metadata": {
        "id": "iBYXRSW8at00"
      }
    },
    {
      "cell_type": "markdown",
      "source": [
        "![image.png](data:image/png;base64,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)"
      ],
      "metadata": {
        "id": "hCJGXGkOyTbp"
      }
    },
    {
      "cell_type": "markdown",
      "source": [
        "### 3.1. Positional Encoding Layer"
      ],
      "metadata": {
        "id": "eVEKM0CM3Awi"
      }
    },
    {
      "cell_type": "code",
      "source": [
        "def positional_encoding(length, depth):\n",
        "    depth = depth/2\n",
        "\n",
        "    positions = np.arange(length)[:, np.newaxis]     # (seq, 1)\n",
        "    depths = np.arange(depth)[np.newaxis, :]/depth   # (1, depth)\n",
        "\n",
        "    angle_rates = 1 / (10000**depths)         # (1, depth)\n",
        "    angle_rads = positions * angle_rates      # (pos, depth)\n",
        "\n",
        "    pos_encoding = np.concatenate(\n",
        "        [np.sin(angle_rads), np.cos(angle_rads)],\n",
        "        axis=-1)\n",
        "\n",
        "    return tf.cast(pos_encoding, dtype=tf.float32)\n",
        "\n",
        "class PositionalEmbedding(tf.keras.layers.Layer):\n",
        "    def __init__(self, vocab_size, d_model):\n",
        "        super().__init__()\n",
        "        self.d_model = d_model\n",
        "        self.embedding = tf.keras.layers.Embedding(vocab_size, d_model, mask_zero=True)\n",
        "        self.pos_encoding = positional_encoding(length=2048, depth=d_model)\n",
        "\n",
        "    def compute_mask(self, *args, **kwargs):\n",
        "        return self.embedding.compute_mask(*args, **kwargs)\n",
        "\n",
        "    def call(self, x):\n",
        "        length = tf.shape(x)[1]\n",
        "        x = self.embedding(x)\n",
        "        # This factor sets the relative scale of the embedding and positonal_encoding.\n",
        "        x *= tf.math.sqrt(tf.cast(self.d_model, tf.float32))\n",
        "        x = x + self.pos_encoding[tf.newaxis, :length, :]\n",
        "        return x"
      ],
      "metadata": {
        "id": "nEFbBsLs2q95"
      },
      "execution_count": null,
      "outputs": []
    },
    {
      "cell_type": "markdown",
      "source": [
        "### 3.2. Self-attention Layer"
      ],
      "metadata": {
        "id": "qdPLnIH-3GYU"
      }
    },
    {
      "cell_type": "code",
      "source": [
        "class BaseAttention(tf.keras.layers.Layer):\n",
        "    def __init__(self, **kwargs):\n",
        "        super().__init__()\n",
        "        self.mha = tf.keras.layers.MultiHeadAttention(**kwargs)\n",
        "        self.layernorm = tf.keras.layers.LayerNormalization()\n",
        "        self.add = tf.keras.layers.Add()"
      ],
      "metadata": {
        "id": "YXfYIWvB3o61"
      },
      "execution_count": null,
      "outputs": []
    },
    {
      "cell_type": "markdown",
      "source": [
        "### 3.3. Cross-attention Layer"
      ],
      "metadata": {
        "id": "__oPvUVi64cq"
      }
    },
    {
      "cell_type": "code",
      "source": [
        "class CrossAttention(BaseAttention):\n",
        "    def call(self, x, context):\n",
        "        attn_output, attn_scores = self.mha(\n",
        "            query=x,\n",
        "            key=context,\n",
        "            value=context,\n",
        "            return_attention_scores=True)\n",
        "\n",
        "        # Cache the attention scores for plotting later.\n",
        "        self.last_attn_scores = attn_scores\n",
        "\n",
        "        x = self.add([x, attn_output])\n",
        "        x = self.layernorm(x)\n",
        "\n",
        "        return x"
      ],
      "metadata": {
        "id": "XBdDhRKe66sq"
      },
      "execution_count": null,
      "outputs": []
    },
    {
      "cell_type": "markdown",
      "source": [
        "### 3.4. Global Self-attention Layer"
      ],
      "metadata": {
        "id": "wg1LFsNp78yP"
      }
    },
    {
      "cell_type": "code",
      "source": [
        "class GlobalSelfAttention(BaseAttention):\n",
        "    def call(self, x):\n",
        "        attn_output = self.mha(\n",
        "            query=x,\n",
        "            value=x,\n",
        "            key=x)\n",
        "        x = self.add([x, attn_output])\n",
        "        x = self.layernorm(x)\n",
        "\n",
        "        return x"
      ],
      "metadata": {
        "id": "cC5m3n_e8Aav"
      },
      "execution_count": null,
      "outputs": []
    },
    {
      "cell_type": "markdown",
      "source": [
        "### 3.5. Causal Self-attention Layer"
      ],
      "metadata": {
        "id": "LFu2uQl982cm"
      }
    },
    {
      "cell_type": "code",
      "source": [
        "class CausalSelfAttention(BaseAttention):\n",
        "    def call(self, x):\n",
        "        attn_output = self.mha(\n",
        "            query=x,\n",
        "            value=x,\n",
        "            key=x,\n",
        "            use_causal_mask = True)\n",
        "        x = self.add([x, attn_output])\n",
        "        x = self.layernorm(x)\n",
        "\n",
        "        return x"
      ],
      "metadata": {
        "id": "0ATiokle85ka"
      },
      "execution_count": null,
      "outputs": []
    },
    {
      "cell_type": "markdown",
      "source": [
        "### 3.6. Feed-forward Network"
      ],
      "metadata": {
        "id": "0eYYZ4gm9RRp"
      }
    },
    {
      "cell_type": "code",
      "source": [
        "class FeedForward(tf.keras.layers.Layer):\n",
        "    def __init__(self, d_model, dff, dropout_rate=0.1):\n",
        "        super().__init__()\n",
        "        self.seq = tf.keras.Sequential([\n",
        "        tf.keras.layers.Dense(dff, activation='relu'),\n",
        "        tf.keras.layers.Dense(d_model),\n",
        "        tf.keras.layers.Dropout(dropout_rate)\n",
        "        ])\n",
        "        self.add = tf.keras.layers.Add()\n",
        "        self.layer_norm = tf.keras.layers.LayerNormalization()\n",
        "\n",
        "    def call(self, x):\n",
        "        x = self.add([x, self.seq(x)])\n",
        "        x = self.layer_norm(x)\n",
        "        return x"
      ],
      "metadata": {
        "id": "PW0fyG119UvS"
      },
      "execution_count": null,
      "outputs": []
    },
    {
      "cell_type": "markdown",
      "source": [
        "### 3.7. Encoder Layer"
      ],
      "metadata": {
        "id": "MRooqf4a9lxq"
      }
    },
    {
      "cell_type": "code",
      "source": [
        "class EncoderLayer(tf.keras.layers.Layer):\n",
        "    def __init__(self,*, d_model, num_heads, dff, dropout_rate=0.1):\n",
        "        super().__init__()\n",
        "\n",
        "        self.self_attention = GlobalSelfAttention(\n",
        "            num_heads=num_heads,\n",
        "            key_dim=d_model,\n",
        "            dropout=dropout_rate)\n",
        "\n",
        "        self.ffn = FeedForward(d_model, dff)\n",
        "\n",
        "    def call(self, x):\n",
        "        x = self.self_attention(x)\n",
        "        x = self.ffn(x)\n",
        "        return x"
      ],
      "metadata": {
        "id": "QV894jTV9oul"
      },
      "execution_count": null,
      "outputs": []
    },
    {
      "cell_type": "markdown",
      "source": [
        "### 3.8. Transformer Encoder"
      ],
      "metadata": {
        "id": "9zrYsImw914U"
      }
    },
    {
      "cell_type": "code",
      "source": [
        "class Encoder(tf.keras.layers.Layer):\n",
        "    def __init__(self, *, num_layers, d_model, num_heads,\n",
        "                dff, vocab_size, dropout_rate=0.1):\n",
        "        super().__init__()\n",
        "\n",
        "        self.d_model = d_model\n",
        "        self.num_layers = num_layers\n",
        "\n",
        "        self.pos_embedding = PositionalEmbedding(\n",
        "            vocab_size=vocab_size, d_model=d_model)\n",
        "\n",
        "        self.enc_layers = [\n",
        "            EncoderLayer(d_model=d_model,\n",
        "                        num_heads=num_heads,\n",
        "                        dff=dff,\n",
        "                        dropout_rate=dropout_rate)\n",
        "            for _ in range(num_layers)]\n",
        "        self.dropout = tf.keras.layers.Dropout(dropout_rate)\n",
        "\n",
        "    def call(self, x):\n",
        "        # `x` is token-IDs shape: (batch, seq_len)\n",
        "        x = self.pos_embedding(x)  # Shape `(batch_size, seq_len, d_model)`.\n",
        "\n",
        "        # Add dropout.\n",
        "        x = self.dropout(x)\n",
        "\n",
        "        for i in range(self.num_layers):\n",
        "            x = self.enc_layers[i](x)\n",
        "\n",
        "        return x  # Shape `(batch_size, seq_len, d_model)`."
      ],
      "metadata": {
        "id": "9HA14C_N94qX"
      },
      "execution_count": null,
      "outputs": []
    },
    {
      "cell_type": "markdown",
      "source": [
        "### 3.9. Decoder Layer"
      ],
      "metadata": {
        "id": "CZdo9DtV96VM"
      }
    },
    {
      "cell_type": "code",
      "source": [
        "class DecoderLayer(tf.keras.layers.Layer):\n",
        "    def __init__(self,\n",
        "                *,\n",
        "                d_model,\n",
        "                num_heads,\n",
        "                dff,\n",
        "                dropout_rate=0.1):\n",
        "        super(DecoderLayer, self).__init__()\n",
        "\n",
        "        self.causal_self_attention = CausalSelfAttention(\n",
        "            num_heads=num_heads,\n",
        "            key_dim=d_model,\n",
        "            dropout=dropout_rate)\n",
        "\n",
        "        self.cross_attention = CrossAttention(\n",
        "            num_heads=num_heads,\n",
        "            key_dim=d_model,\n",
        "            dropout=dropout_rate)\n",
        "\n",
        "        self.ffn = FeedForward(d_model, dff)\n",
        "\n",
        "    def call(self, x, context):\n",
        "        x = self.causal_self_attention(x=x)\n",
        "        x = self.cross_attention(x=x, context=context)\n",
        "\n",
        "        # Cache the last attention scores for plotting later\n",
        "        self.last_attn_scores = self.cross_attention.last_attn_scores\n",
        "\n",
        "        x = self.ffn(x)  # Shape `(batch_size, seq_len, d_model)`.\n",
        "        return x"
      ],
      "metadata": {
        "id": "WKygFk7094vN"
      },
      "execution_count": null,
      "outputs": []
    },
    {
      "cell_type": "markdown",
      "source": [
        "### 3.10. Transformer Decoder"
      ],
      "metadata": {
        "id": "MCoNtShU-Tmn"
      }
    },
    {
      "cell_type": "code",
      "source": [
        "class Decoder(tf.keras.layers.Layer):\n",
        "    def __init__(self, *, num_layers, d_model, num_heads, dff, vocab_size,\n",
        "                dropout_rate=0.1):\n",
        "        super(Decoder, self).__init__()\n",
        "\n",
        "        self.d_model = d_model\n",
        "        self.num_layers = num_layers\n",
        "\n",
        "        self.pos_embedding = PositionalEmbedding(vocab_size=vocab_size,\n",
        "                                                d_model=d_model)\n",
        "        self.dropout = tf.keras.layers.Dropout(dropout_rate)\n",
        "        self.dec_layers = [\n",
        "            DecoderLayer(d_model=d_model, num_heads=num_heads,\n",
        "                        dff=dff, dropout_rate=dropout_rate)\n",
        "            for _ in range(num_layers)]\n",
        "\n",
        "        self.last_attn_scores = None\n",
        "\n",
        "    def call(self, x, context):\n",
        "        # `x` is token-IDs shape (batch, target_seq_len)\n",
        "        x = self.pos_embedding(x)  # (batch_size, target_seq_len, d_model)\n",
        "\n",
        "        x = self.dropout(x)\n",
        "\n",
        "        for i in range(self.num_layers):\n",
        "            x  = self.dec_layers[i](x, context)\n",
        "\n",
        "        self.last_attn_scores = self.dec_layers[-1].last_attn_scores\n",
        "\n",
        "        # The shape of x is (batch_size, target_seq_len, d_model).\n",
        "        return x"
      ],
      "metadata": {
        "id": "SYSo3-DB-Vy_"
      },
      "execution_count": null,
      "outputs": []
    },
    {
      "cell_type": "markdown",
      "source": [
        "### 3.11. Transformer Model"
      ],
      "metadata": {
        "id": "4WHwb3e3-3ds"
      }
    },
    {
      "cell_type": "code",
      "source": [
        "class Transformer(tf.keras.Model):\n",
        "    def __init__(self, *, num_layers, d_model, num_heads, dff,\n",
        "                vocab_size, dropout_rate=0.1):\n",
        "        super().__init__()\n",
        "        self.encoder = Encoder(num_layers=num_layers, d_model=d_model,\n",
        "                            num_heads=num_heads, dff=dff,\n",
        "                            vocab_size=vocab_size,\n",
        "                            dropout_rate=dropout_rate)\n",
        "\n",
        "        self.decoder = Decoder(num_layers=num_layers, d_model=d_model,\n",
        "                            num_heads=num_heads, dff=dff,\n",
        "                            vocab_size=vocab_size,\n",
        "                            dropout_rate=dropout_rate)\n",
        "\n",
        "        self.final_layer = tf.keras.layers.Dense(vocab_size)\n",
        "\n",
        "    def call(self, inputs):\n",
        "        # To use a Keras model with `.fit` you must pass all your inputs in the\n",
        "        # first argument.\n",
        "        context, x  = inputs\n",
        "\n",
        "        context = self.encoder(context)  # (batch_size, context_len, d_model)\n",
        "\n",
        "        x = self.decoder(x, context)  # (batch_size, target_len, d_model)\n",
        "\n",
        "        # Final linear layer output.\n",
        "        logits = self.final_layer(x)  # (batch_size, target_len, target_vocab_size)\n",
        "\n",
        "        try:\n",
        "            # Drop the keras mask, so it doesn't scale the losses/metrics.\n",
        "            # b/250038731\n",
        "            del logits._keras_mask\n",
        "        except AttributeError:\n",
        "            pass\n",
        "\n",
        "        # Return the final output and the attention weights.\n",
        "        return logits"
      ],
      "metadata": {
        "id": "bc8lJ0g5-5n7"
      },
      "execution_count": null,
      "outputs": []
    },
    {
      "cell_type": "code",
      "source": [
        "N_LAYERS = 4\n",
        "D_MODEL = 128\n",
        "D_FF = 512\n",
        "N_HEADS = 8\n",
        "DROPOUT_RATE = 0.2"
      ],
      "metadata": {
        "id": "45nTAWsWPSks"
      },
      "execution_count": null,
      "outputs": []
    },
    {
      "cell_type": "code",
      "source": [
        "transformer = Transformer(\n",
        "    num_layers=N_LAYERS,\n",
        "    d_model=D_MODEL,\n",
        "    num_heads=N_HEADS,\n",
        "    dff=D_FF,\n",
        "    vocab_size=VOCAB_SIZE,\n",
        "    dropout_rate=DROPOUT_RATE\n",
        ")"
      ],
      "metadata": {
        "id": "8-R7Z-7hP_em"
      },
      "execution_count": null,
      "outputs": []
    },
    {
      "cell_type": "code",
      "source": [
        "batches = train_ds.take(2)\n",
        "for batch in batches:\n",
        "    X_try, y_try = batch[0], batch[1]\n",
        "    break"
      ],
      "metadata": {
        "id": "DZ-GuflyBYV0"
      },
      "execution_count": null,
      "outputs": []
    },
    {
      "cell_type": "code",
      "source": [
        "output = transformer(X_try)"
      ],
      "metadata": {
        "id": "Q1QsCOzQBDyS"
      },
      "execution_count": null,
      "outputs": []
    },
    {
      "cell_type": "code",
      "source": [
        "output.shape"
      ],
      "metadata": {
        "colab": {
          "base_uri": "https://localhost:8080/"
        },
        "id": "5e6alPQzDNCF",
        "outputId": "9d73a921-4f32-4407-fd3f-eacf4d130a35"
      },
      "execution_count": null,
      "outputs": [
        {
          "output_type": "execute_result",
          "data": {
            "text/plain": [
              "TensorShape([32, 7, 1471])"
            ]
          },
          "metadata": {},
          "execution_count": 29
        }
      ]
    },
    {
      "cell_type": "code",
      "source": [
        "transformer.summary()"
      ],
      "metadata": {
        "colab": {
          "base_uri": "https://localhost:8080/"
        },
        "id": "hvkV3HDv_IuC",
        "outputId": "216f4c47-e52a-4a4e-9992-3f889a31cc10"
      },
      "execution_count": null,
      "outputs": [
        {
          "output_type": "stream",
          "name": "stdout",
          "text": [
            "Model: \"transformer\"\n",
            "_________________________________________________________________\n",
            " Layer (type)                Output Shape              Param #   \n",
            "=================================================================\n",
            " encoder (Encoder)           multiple                  2827136   \n",
            "                                                                 \n",
            " decoder (Decoder)           multiple                  4938112   \n",
            "                                                                 \n",
            " dense_16 (Dense)            multiple                  189759    \n",
            "                                                                 \n",
            "=================================================================\n",
            "Total params: 7955007 (30.35 MB)\n",
            "Trainable params: 7955007 (30.35 MB)\n",
            "Non-trainable params: 0 (0.00 Byte)\n",
            "_________________________________________________________________\n"
          ]
        }
      ]
    },
    {
      "cell_type": "markdown",
      "source": [
        "## **4. Cấu hình mô hình**"
      ],
      "metadata": {
        "id": "YLf9DMbmbX9M"
      }
    },
    {
      "cell_type": "code",
      "source": [
        "EPOCHS = 50"
      ],
      "metadata": {
        "id": "RVY1Eo7wxmbG"
      },
      "execution_count": null,
      "outputs": []
    },
    {
      "cell_type": "code",
      "source": [
        "class CustomSchedule(tf.keras.optimizers.schedules.LearningRateSchedule):\n",
        "    def __init__(self, d_model, warmup_steps=4000):\n",
        "        super().__init__()\n",
        "\n",
        "        self.d_model = d_model\n",
        "        self.d_model = tf.cast(self.d_model, tf.float32)\n",
        "\n",
        "        self.warmup_steps = warmup_steps\n",
        "\n",
        "    def __call__(self, step):\n",
        "        step = tf.cast(step, dtype=tf.float32)\n",
        "        arg1 = tf.math.rsqrt(step)\n",
        "        arg2 = step * (self.warmup_steps ** -1.5)\n",
        "\n",
        "        return tf.math.rsqrt(self.d_model) * tf.math.minimum(arg1, arg2)"
      ],
      "metadata": {
        "id": "v-FdNRo6_U_k"
      },
      "execution_count": null,
      "outputs": []
    },
    {
      "cell_type": "code",
      "source": [
        "learning_rate = CustomSchedule(D_MODEL)\n",
        "\n",
        "optimizer = tf.keras.optimizers.Adam(\n",
        "    learning_rate,\n",
        "    beta_1=0.9,\n",
        "    beta_2=0.98,\n",
        "    epsilon=1e-9\n",
        ")"
      ],
      "metadata": {
        "id": "ed4dHZkf_XC7"
      },
      "execution_count": null,
      "outputs": []
    },
    {
      "cell_type": "code",
      "source": [
        "def masked_loss(label, pred):\n",
        "    mask = label != 0\n",
        "    loss_object = tf.keras.losses.SparseCategoricalCrossentropy(\n",
        "        from_logits=True, reduction='none')\n",
        "    loss = loss_object(label, pred)\n",
        "\n",
        "    mask = tf.cast(mask, dtype=loss.dtype)\n",
        "    loss *= mask\n",
        "\n",
        "    loss = tf.reduce_sum(loss)/tf.reduce_sum(mask)\n",
        "\n",
        "    return loss\n",
        "\n",
        "\n",
        "def masked_accuracy(label, pred):\n",
        "    pred = tf.argmax(pred, axis=2)\n",
        "    label = tf.cast(label, pred.dtype)\n",
        "    match = label == pred\n",
        "\n",
        "    mask = label != 0\n",
        "\n",
        "    match = match & mask\n",
        "\n",
        "    match = tf.cast(match, dtype=tf.float32)\n",
        "    mask = tf.cast(mask, dtype=tf.float32)\n",
        "\n",
        "    return tf.reduce_sum(match)/tf.reduce_sum(mask)\n",
        "\n",
        "def compute_perplexity(logits, targets):\n",
        "    loss_fn = tf.keras.losses.SparseCategoricalCrossentropy(\n",
        "        from_logits=True, reduction='none')\n",
        "\n",
        "    loss = loss_fn(targets, logits)\n",
        "\n",
        "    perplexity = np.exp(np.mean(loss))\n",
        "\n",
        "    return perplexity\n",
        "\n",
        "\n",
        "def compute_bleu(predicted, targets):\n",
        "    predicted_strings = []\n",
        "    for seq in predicted:\n",
        "        seq = np.argmax(seq, axis=1)\n",
        "        string_seq = \" \".join([tokenizer.sequences_to_texts([[token]])[0] for token in seq if token != 0])\n",
        "        predicted_strings.append(string_seq)\n",
        "    target_strings = []\n",
        "    for seq in targets:\n",
        "        seq = seq.numpy().tolist()\n",
        "        string_seq = \" \".join([tokenizer.sequences_to_texts([[token]])[0] for token in seq if token != 0])\n",
        "        target_strings.append([string_seq])\n",
        "\n",
        "    bleu_score = corpus_bleu(target_strings, predicted_strings)\n",
        "\n",
        "    return bleu_score"
      ],
      "metadata": {
        "id": "Ni0iuAHj_hLa"
      },
      "execution_count": null,
      "outputs": []
    },
    {
      "cell_type": "code",
      "source": [
        "transformer.compile(\n",
        "    loss=masked_loss,\n",
        "    optimizer=optimizer,\n",
        "    metrics=[masked_accuracy]\n",
        ")"
      ],
      "metadata": {
        "id": "cR868LBvxoZY"
      },
      "execution_count": null,
      "outputs": []
    },
    {
      "cell_type": "markdown",
      "source": [
        "## **5. Thực hiện huấn luyện**"
      ],
      "metadata": {
        "id": "3Kb90Safbc0I"
      }
    },
    {
      "cell_type": "code",
      "source": [
        "history = transformer.fit(\n",
        "    train_ds,\n",
        "    epochs=EPOCHS,\n",
        "    validation_data=val_ds\n",
        ")"
      ],
      "metadata": {
        "colab": {
          "base_uri": "https://localhost:8080/"
        },
        "id": "-StpXxgExtFo",
        "outputId": "ec60592a-f466-4f4f-f35e-65e41463f2ef"
      },
      "execution_count": null,
      "outputs": [
        {
          "output_type": "stream",
          "name": "stdout",
          "text": [
            "Epoch 1/50\n",
            "23/23 [==============================] - 37s 287ms/step - loss: 7.4186 - masked_accuracy: 2.2645e-04 - val_loss: 7.2810 - val_masked_accuracy: 0.0000e+00\n",
            "Epoch 2/50\n",
            "23/23 [==============================] - 2s 81ms/step - loss: 7.1282 - masked_accuracy: 0.0892 - val_loss: 6.8941 - val_masked_accuracy: 0.1667\n",
            "Epoch 3/50\n",
            "23/23 [==============================] - 1s 49ms/step - loss: 6.8160 - masked_accuracy: 0.1667 - val_loss: 6.6829 - val_masked_accuracy: 0.1667\n",
            "Epoch 4/50\n",
            "23/23 [==============================] - 1s 50ms/step - loss: 6.6486 - masked_accuracy: 0.1667 - val_loss: 6.5941 - val_masked_accuracy: 0.1667\n",
            "Epoch 5/50\n",
            "23/23 [==============================] - 1s 51ms/step - loss: 6.5652 - masked_accuracy: 0.1667 - val_loss: 6.5318 - val_masked_accuracy: 0.1667\n",
            "Epoch 6/50\n",
            "23/23 [==============================] - 1s 51ms/step - loss: 6.4914 - masked_accuracy: 0.1667 - val_loss: 6.4653 - val_masked_accuracy: 0.1667\n",
            "Epoch 7/50\n",
            "23/23 [==============================] - 1s 51ms/step - loss: 6.4072 - masked_accuracy: 0.1667 - val_loss: 6.3850 - val_masked_accuracy: 0.1667\n",
            "Epoch 8/50\n",
            "23/23 [==============================] - 1s 50ms/step - loss: 6.3104 - masked_accuracy: 0.1667 - val_loss: 6.3084 - val_masked_accuracy: 0.1667\n",
            "Epoch 9/50\n",
            "23/23 [==============================] - 1s 51ms/step - loss: 6.2111 - masked_accuracy: 0.1669 - val_loss: 6.2317 - val_masked_accuracy: 0.1667\n",
            "Epoch 10/50\n",
            "23/23 [==============================] - 1s 53ms/step - loss: 6.1115 - masked_accuracy: 0.1683 - val_loss: 6.1664 - val_masked_accuracy: 0.1667\n",
            "Epoch 11/50\n",
            "23/23 [==============================] - 2s 81ms/step - loss: 6.0146 - masked_accuracy: 0.1701 - val_loss: 6.0963 - val_masked_accuracy: 0.1826\n",
            "Epoch 12/50\n",
            "23/23 [==============================] - 1s 59ms/step - loss: 5.9229 - masked_accuracy: 0.1721 - val_loss: 6.0275 - val_masked_accuracy: 0.1841\n",
            "Epoch 13/50\n",
            "23/23 [==============================] - 1s 50ms/step - loss: 5.8353 - masked_accuracy: 0.1721 - val_loss: 5.9675 - val_masked_accuracy: 0.1841\n",
            "Epoch 14/50\n",
            "23/23 [==============================] - 2s 78ms/step - loss: 5.7515 - masked_accuracy: 0.1746 - val_loss: 5.9258 - val_masked_accuracy: 0.1748\n",
            "Epoch 15/50\n",
            "23/23 [==============================] - 2s 86ms/step - loss: 5.6719 - masked_accuracy: 0.1769 - val_loss: 5.8774 - val_masked_accuracy: 0.1848\n",
            "Epoch 16/50\n",
            "23/23 [==============================] - 1s 51ms/step - loss: 5.5903 - masked_accuracy: 0.1778 - val_loss: 5.8581 - val_masked_accuracy: 0.1818\n",
            "Epoch 17/50\n",
            "23/23 [==============================] - 1s 50ms/step - loss: 5.5081 - masked_accuracy: 0.1803 - val_loss: 5.8368 - val_masked_accuracy: 0.1774\n",
            "Epoch 18/50\n",
            "23/23 [==============================] - 2s 69ms/step - loss: 5.4272 - masked_accuracy: 0.1819 - val_loss: 5.8120 - val_masked_accuracy: 0.1826\n",
            "Epoch 19/50\n",
            "23/23 [==============================] - 3s 148ms/step - loss: 5.3491 - masked_accuracy: 0.1837 - val_loss: 5.8065 - val_masked_accuracy: 0.1767\n",
            "Epoch 20/50\n",
            "23/23 [==============================] - 3s 134ms/step - loss: 5.2669 - masked_accuracy: 0.1846 - val_loss: 5.7894 - val_masked_accuracy: 0.1834\n",
            "Epoch 21/50\n",
            "23/23 [==============================] - 3s 118ms/step - loss: 5.1899 - masked_accuracy: 0.1907 - val_loss: 5.7735 - val_masked_accuracy: 0.1900\n",
            "Epoch 22/50\n",
            "23/23 [==============================] - 2s 76ms/step - loss: 5.1117 - masked_accuracy: 0.1953 - val_loss: 5.7812 - val_masked_accuracy: 0.1867\n",
            "Epoch 23/50\n",
            "23/23 [==============================] - 1s 52ms/step - loss: 5.0206 - masked_accuracy: 0.2039 - val_loss: 5.7648 - val_masked_accuracy: 0.1867\n",
            "Epoch 24/50\n",
            "23/23 [==============================] - 1s 51ms/step - loss: 4.9338 - masked_accuracy: 0.2107 - val_loss: 5.7822 - val_masked_accuracy: 0.1864\n",
            "Epoch 25/50\n",
            "23/23 [==============================] - 1s 49ms/step - loss: 4.8535 - masked_accuracy: 0.2205 - val_loss: 5.7692 - val_masked_accuracy: 0.1841\n",
            "Epoch 26/50\n",
            "23/23 [==============================] - 1s 49ms/step - loss: 4.7741 - masked_accuracy: 0.2342 - val_loss: 5.7863 - val_masked_accuracy: 0.1937\n",
            "Epoch 27/50\n",
            "23/23 [==============================] - 1s 50ms/step - loss: 4.6793 - masked_accuracy: 0.2453 - val_loss: 5.7861 - val_masked_accuracy: 0.1897\n",
            "Epoch 28/50\n",
            "23/23 [==============================] - 1s 50ms/step - loss: 4.6090 - masked_accuracy: 0.2516 - val_loss: 5.7989 - val_masked_accuracy: 0.1904\n",
            "Epoch 29/50\n",
            "23/23 [==============================] - 1s 49ms/step - loss: 4.4991 - masked_accuracy: 0.2741 - val_loss: 5.7897 - val_masked_accuracy: 0.1886\n",
            "Epoch 30/50\n",
            "23/23 [==============================] - 1s 55ms/step - loss: 4.4168 - masked_accuracy: 0.2845 - val_loss: 5.7754 - val_masked_accuracy: 0.1982\n",
            "Epoch 31/50\n",
            "23/23 [==============================] - 2s 84ms/step - loss: 4.3357 - masked_accuracy: 0.2990 - val_loss: 5.7603 - val_masked_accuracy: 0.2045\n",
            "Epoch 32/50\n",
            "23/23 [==============================] - 1s 53ms/step - loss: 4.2312 - masked_accuracy: 0.3144 - val_loss: 5.7989 - val_masked_accuracy: 0.2019\n",
            "Epoch 33/50\n",
            "23/23 [==============================] - 1s 51ms/step - loss: 4.1485 - masked_accuracy: 0.3315 - val_loss: 5.8254 - val_masked_accuracy: 0.2030\n",
            "Epoch 34/50\n",
            "23/23 [==============================] - 1s 50ms/step - loss: 4.0383 - masked_accuracy: 0.3476 - val_loss: 5.7942 - val_masked_accuracy: 0.2064\n",
            "Epoch 35/50\n",
            "23/23 [==============================] - 1s 49ms/step - loss: 3.9318 - masked_accuracy: 0.3745 - val_loss: 5.8429 - val_masked_accuracy: 0.2071\n",
            "Epoch 36/50\n",
            "23/23 [==============================] - 1s 52ms/step - loss: 3.8232 - masked_accuracy: 0.3876 - val_loss: 5.8159 - val_masked_accuracy: 0.2096\n",
            "Epoch 37/50\n",
            "23/23 [==============================] - 1s 51ms/step - loss: 3.7101 - masked_accuracy: 0.4138 - val_loss: 5.8705 - val_masked_accuracy: 0.2111\n",
            "Epoch 38/50\n",
            "23/23 [==============================] - 1s 51ms/step - loss: 3.5982 - masked_accuracy: 0.4365 - val_loss: 5.9845 - val_masked_accuracy: 0.2034\n",
            "Epoch 39/50\n",
            "23/23 [==============================] - 1s 65ms/step - loss: 3.4916 - masked_accuracy: 0.4566 - val_loss: 5.9582 - val_masked_accuracy: 0.2097\n",
            "Epoch 40/50\n",
            "23/23 [==============================] - 2s 92ms/step - loss: 3.3495 - masked_accuracy: 0.4820 - val_loss: 5.9480 - val_masked_accuracy: 0.2130\n",
            "Epoch 41/50\n",
            "23/23 [==============================] - 1s 52ms/step - loss: 3.2338 - masked_accuracy: 0.4949 - val_loss: 5.9852 - val_masked_accuracy: 0.2123\n",
            "Epoch 42/50\n",
            "23/23 [==============================] - 1s 53ms/step - loss: 3.1188 - masked_accuracy: 0.5229 - val_loss: 5.9305 - val_masked_accuracy: 0.2193\n",
            "Epoch 43/50\n",
            "23/23 [==============================] - 1s 51ms/step - loss: 3.0002 - masked_accuracy: 0.5330 - val_loss: 5.9965 - val_masked_accuracy: 0.2178\n",
            "Epoch 44/50\n",
            "23/23 [==============================] - 1s 51ms/step - loss: 2.8791 - masked_accuracy: 0.5529 - val_loss: 5.9467 - val_masked_accuracy: 0.2174\n",
            "Epoch 45/50\n",
            "23/23 [==============================] - 1s 52ms/step - loss: 2.7385 - masked_accuracy: 0.5795 - val_loss: 5.9539 - val_masked_accuracy: 0.2159\n",
            "Epoch 46/50\n",
            "23/23 [==============================] - 1s 50ms/step - loss: 2.6306 - masked_accuracy: 0.5969 - val_loss: 5.9467 - val_masked_accuracy: 0.2208\n",
            "Epoch 47/50\n",
            "23/23 [==============================] - 1s 49ms/step - loss: 2.5200 - masked_accuracy: 0.6118 - val_loss: 5.9770 - val_masked_accuracy: 0.2204\n",
            "Epoch 48/50\n",
            "23/23 [==============================] - 1s 51ms/step - loss: 2.3982 - masked_accuracy: 0.6305 - val_loss: 5.9869 - val_masked_accuracy: 0.2212\n",
            "Epoch 49/50\n",
            "23/23 [==============================] - 2s 76ms/step - loss: 2.2560 - masked_accuracy: 0.6611 - val_loss: 6.0096 - val_masked_accuracy: 0.2278\n",
            "Epoch 50/50\n",
            "23/23 [==============================] - 2s 66ms/step - loss: 2.1371 - masked_accuracy: 0.6850 - val_loss: 5.9772 - val_masked_accuracy: 0.2256\n"
          ]
        }
      ]
    },
    {
      "cell_type": "markdown",
      "source": [
        "## **6. Đánh giá và trực quan hóa**"
      ],
      "metadata": {
        "id": "UgNNy8JUbfBj"
      }
    },
    {
      "cell_type": "code",
      "source": [
        "# Đánh giá mô hình trên tập test\n",
        "test_evaluation = transformer.evaluate(test_ds)"
      ],
      "metadata": {
        "colab": {
          "base_uri": "https://localhost:8080/"
        },
        "id": "b3TlfKI5rc7B",
        "outputId": "8ea07acb-c0fb-4dcf-bbc0-c36ef482d10f"
      },
      "execution_count": null,
      "outputs": [
        {
          "output_type": "stream",
          "name": "stdout",
          "text": [
            "4/4 [==============================] - 0s 19ms/step - loss: 6.3356 - masked_accuracy: 0.1875\n"
          ]
        }
      ]
    },
    {
      "cell_type": "code",
      "source": [
        "# Đọc các kết quả huấn luyện mô hình qua từng epoch\n",
        "train_loss, train_acc = history.history['loss'], history.history['masked_accuracy'] # Đọc thông tin loss, acc trên tập train\n",
        "val_loss, val_acc = history.history['val_loss'], history.history['val_masked_accuracy'] # Đọc thông tin loss, acc trên tập val\n",
        "\n",
        "plt.figure(figsize=(10, 10)) # Cài đặt kích thước khung ảnh\n",
        "\n",
        "plt.subplot(2, 2, 1) # Khởi tạo khung ảnh cho training loss\n",
        "plt.xlabel('Epochs') # Hiển thị tên trục hoành là 'Epochs'\n",
        "plt.ylabel('Loss') # Hiển thị tên trục tung là 'Loss'\n",
        "plt.title('Training loss') # Hiển thị title của khung ảnh hiện tại là 'Training Loss'\n",
        "plt.plot(train_loss, color='green') # Vẽ đường giá trị loss trên tập train qua từng epoch (đường vẽ màu đỏ)\n",
        "\n",
        "plt.subplot(2, 2, 2) # Khởi tạo khung ảnh cho training acc\n",
        "plt.xlabel('Epochs') # Hiển thị tên trục hoành là 'Epochs'\n",
        "plt.ylabel('Accuracy') # Hiển thị tên trục tung là 'Accuracy'\n",
        "plt.title('Training accuracy') # Hiển thị title của khung ảnh hiện tại là 'Training accuracy'\n",
        "plt.plot(train_acc, color='orange') # Vẽ đường giá trị accuracy trên tập train qua từng epoch (đường vẽ màu cam)\n",
        "\n",
        "plt.subplot(2, 2, 3) # Khởi tạo khung ảnh cho val loss\n",
        "plt.xlabel('Epochs') # Hiển thị tên trục hoành là 'Epochs'\n",
        "plt.ylabel('Loss') # Hiển thị tên trục tung là 'Loss'\n",
        "plt.title('Validation loss') # Hiển thị title của khung ảnh hiện tại là 'Validation loss'\n",
        "plt.plot(val_loss, color='green') # Vẽ đường giá trị loss trên tập val qua từng epoch (đường vẽ màu đỏ)\n",
        "\n",
        "plt.subplot(2, 2, 4) # Khởi tạo khung ảnh cho val acc\n",
        "plt.xlabel('Epochs') # Hiển thị tên trục hoành là 'Epochs'\n",
        "plt.ylabel('Accuracy') # Hiển thị tên trục tung là 'Accuracy'\n",
        "plt.title('Validation accuracy') # Hiển thị title của khung ảnh hiện tại là 'Validation accuracy'\n",
        "plt.plot(val_acc, color='orange') # Vẽ đường giá trị accuracy trên tập val qua từng epoch (đường vẽ màu cam)\n",
        "\n",
        "plt.show() # Hiển thị 4 khung ảnh nhỏ"
      ],
      "metadata": {
        "id": "vmMe97kpcS71",
        "colab": {
          "base_uri": "https://localhost:8080/",
          "height": 872
        },
        "outputId": "de94807f-7946-48fb-ce1e-1f469ea9ab73"
      },
      "execution_count": null,
      "outputs": [
        {
          "output_type": "display_data",
          "data": {
            "text/plain": [
              "<Figure size 1000x1000 with 4 Axes>"
            ],
            "image/png": "[encoded data removed]"
          },
          "metadata": {}
        }
      ]
    },
    {
      "cell_type": "code",
      "source": [
        "perplexities = []\n",
        "bleu_scores = []\n",
        "for sample in test_ds:\n",
        "    X_try, y_try = sample\n",
        "    y_pred = transformer(X_try)\n",
        "    batch_perplexity = compute_perplexity(y_pred, y_try)\n",
        "    batch_bleu_score = compute_bleu(y_pred, y_try)\n",
        "\n",
        "    perplexities.append(batch_perplexity)\n",
        "    bleu_scores.append(batch_bleu_score)\n",
        "\n",
        "    # print(f'Perplexity: {batch_perplexity}')\n",
        "    # print(f'BLEU score: {batch_bleu_score}')\n",
        "\n",
        "print(f'Perplexity: {sum(perplexities) / len(perplexities)}')\n",
        "print(f'BLEU score: {sum(bleu_scores) / len(bleu_scores)}')"
      ],
      "metadata": {
        "id": "OMO_szhoIxcq",
        "colab": {
          "base_uri": "https://localhost:8080/"
        },
        "outputId": "6c9003b7-a31b-4daa-aeed-aef73841324d"
      },
      "execution_count": null,
      "outputs": [
        {
          "output_type": "stream",
          "name": "stdout",
          "text": [
            "Perplexity: 1940.5328063964844\n",
            "BLEU score: 0.2325874462737287\n"
          ]
        }
      ]
    },
    {
      "cell_type": "markdown",
      "source": [
        "## **7. Inference**"
      ],
      "metadata": {
        "id": "8pSQL9BO0sry"
      }
    },
    {
      "cell_type": "code",
      "source": [
        "def generate_text(\n",
        "    generator_model,\n",
        "    tokenizer,\n",
        "    input_string\n",
        "    ):\n",
        "\n",
        "    encoder_input_string = text_normalize(input_string)\n",
        "    encoder_input_sequence = tokenizer.texts_to_sequences([encoder_input_string])\n",
        "    encoder_input_padded_sequence = pad_sequences(encoder_input_sequence, maxlen=MAX_SEQ_LEN, truncating='pre', padding='post')[0]\n",
        "    encoder_input_padded_sequence = np.expand_dims(encoder_input_padded_sequence, axis=0)\n",
        "\n",
        "    decoder_input_string = '<start>'\n",
        "    decoder_input_sequence = tokenizer.texts_to_sequences([decoder_input_string])\n",
        "    decoder_input_padded_sequence = pad_sequences(decoder_input_sequence, maxlen=MAX_SEQ_LEN, truncating='pre', padding='post')[0]\n",
        "    start = decoder_input_padded_sequence[0][tf.newaxis]\n",
        "    end = decoder_input_padded_sequence[1][tf.newaxis]\n",
        "    decoder_input_padded_sequence = np.expand_dims(decoder_input_padded_sequence, axis=0)\n",
        "\n",
        "    output_array = tf.TensorArray(dtype=tf.int64, size=0, dynamic_size=True)\n",
        "    output_array = output_array.write(0, start)\n",
        "\n",
        "    for i in tf.range(MAX_SEQ_LEN):\n",
        "        output = tf.transpose(output_array.stack())\n",
        "        predictions = generator_model((encoder_input_padded_sequence, output), training=False)\n",
        "\n",
        "        # Select the last token from the `seq_len` dimension.\n",
        "        predictions = predictions[:, -1:, :]  # Shape `(batch_size, 1, vocab_size)`.\n",
        "\n",
        "        predicted_id = tf.argmax(predictions, axis=-1)\n",
        "\n",
        "        # Concatenate the `predicted_id` to the output which is given to the\n",
        "        # decoder as its input.\n",
        "        output_array = output_array.write(i+1, predicted_id[0])\n",
        "\n",
        "        if predicted_id == end:\n",
        "            break\n",
        "\n",
        "    output = tf.transpose(output_array.stack())\n",
        "    output_tokens = output.numpy()\n",
        "    # The output shape is `(1, tokens)`.\n",
        "    text = tokenizer.sequences_to_texts(output_tokens)[0]  # Shape: `()`.\n",
        "\n",
        "\n",
        "    # `tf.function` prevents us from using the attention_weights that were\n",
        "    # calculated on the last iteration of the loop.\n",
        "    # So, recalculate them outside the loop.\n",
        "    generator_model([decoder_input_padded_sequence, output[:, :-1]], training=False)\n",
        "    attention_weights = generator_model.decoder.last_attn_scores\n",
        "\n",
        "    return text, output_tokens, attention_weights"
      ],
      "metadata": {
        "id": "djBwR4Pd0vTu"
      },
      "execution_count": null,
      "outputs": []
    },
    {
      "cell_type": "code",
      "source": [
        "def infer(n_sentences, results):\n",
        "  for idx in range(n_sentences + 1):\n",
        "    input_str = results[idx]\n",
        "    text, output_tokens, attention_weights = generate_text(\n",
        "        transformer,\n",
        "        tokenizer,\n",
        "        input_str\n",
        "    )\n",
        "    results.append(text.replace('<start>', '').replace('<end>', ''))\n",
        "\n",
        "  print('\\n'.join(results))"
      ],
      "metadata": {
        "id": "loXGhmre2q8X"
      },
      "execution_count": null,
      "outputs": []
    },
    {
      "cell_type": "code",
      "source": [
        "results = ['đời này còn lại gì']\n",
        "infer(5, results)"
      ],
      "metadata": {
        "colab": {
          "base_uri": "https://localhost:8080/"
        },
        "id": "s2RxqHvl791T",
        "outputId": "af3c35a9-d766-4ade-b4bc-1bff5c7dbc69"
      },
      "execution_count": null,
      "outputs": [
        {
          "output_type": "stream",
          "name": "stdout",
          "text": [
            "đời này còn lại gì\n",
            " để nắng về xôn xao  \n",
            " chỉ cần có anh lại  \n",
            " cây cổ thụ bóng tối  \n",
            " vua đi rừng núi lại  \n",
            " nơi có cây cổ thụ  \n",
            " vua đi rồi em đi  \n"
          ]
        }
      ]
    },
    {
      "cell_type": "code",
      "source": [
        "results = ['Em giờ đang ở đâu?']\n",
        "infer(5, results)"
      ],
      "metadata": {
        "colab": {
          "base_uri": "https://localhost:8080/"
        },
        "id": "_2Ct3zEG3C0_",
        "outputId": "59995ed3-5092-4c79-a83d-7820b66bc9c6"
      },
      "execution_count": null,
      "outputs": [
        {
          "output_type": "stream",
          "name": "stdout",
          "text": [
            "Em giờ đang ở đâu?\n",
            " trong gió trên buồn phiền  \n",
            " trong khi trong mưa mùa  \n",
            " trời mưa nắng về lại  \n",
            " một ngày trời mưa nắng  \n",
            " sao mùa đông rừng núi  \n",
            " đời mùa đông vô cùng  \n"
          ]
        }
      ]
    },
    {
      "cell_type": "code",
      "source": [
        "results = ['Gió ơi là gió ơi']\n",
        "infer(5, results)"
      ],
      "metadata": {
        "colab": {
          "base_uri": "https://localhost:8080/"
        },
        "id": "8BiSUSbc3Xsd",
        "outputId": "bb93fe0e-0f8d-4883-d9ed-55de0205b019"
      },
      "execution_count": null,
      "outputs": [
        {
          "output_type": "stream",
          "name": "stdout",
          "text": [
            "Gió ơi là gió ơi\n",
            " em chỉ cần có anh  \n",
            " cây cổ thụ bạc tóc  \n",
            " không những nhà cùng ra  \n",
            " một cây cổ thụ   \n",
            " một trong mưa lên mình  \n",
            " một ngày trời mưa nắng  \n"
          ]
        }
      ]
    },
    {
      "cell_type": "code",
      "source": [],
      "metadata": {
        "id": "kFmRmVxJ3rCT"
      },
      "execution_count": null,
      "outputs": []
    }
  ],
  "metadata": {
    "accelerator": "GPU",
    "colab": {
      "provenance": [],
      "collapsed_sections": [
        "iBYXRSW8at00",
        "eVEKM0CM3Awi",
        "qdPLnIH-3GYU",
        "__oPvUVi64cq",
        "wg1LFsNp78yP",
        "LFu2uQl982cm",
        "0eYYZ4gm9RRp",
        "MRooqf4a9lxq",
        "9zrYsImw914U",
        "CZdo9DtV96VM",
        "MCoNtShU-Tmn",
        "3Kb90Safbc0I"
      ],
      "gpuClass": "premium"
    },
    "kernelspec": {
      "display_name": "Python 3 (ipykernel)",
      "language": "python",
      "name": "python3"
    },
    "language_info": {
      "codemirror_mode": {
        "name": "ipython",
        "version": 3
      },
      "file_extension": ".py",
      "mimetype": "text/x-python",
      "name": "python",
      "nbconvert_exporter": "python",
      "pygments_lexer": "ipython3",
      "version": "3.9.7"
    },
    "gpuClass": "premium"
  },
  "nbformat": 4,
  "nbformat_minor": 0
}